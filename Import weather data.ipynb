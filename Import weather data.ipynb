{
 "cells": [
  {
   "cell_type": "code",
   "execution_count": null,
   "metadata": {},
   "outputs": [],
   "source": [
    "frequency = 1\n",
    "start_date = '11-DEC-2018'\n",
    "end_date = '11-MAR-2019'\n",
    "api_key = 'YOUR_API_KEY'\n",
    "location_list = ['singapore','california']\n",
    "hist_weather_data = retrieve_hist_data(api_key,\n",
    "                                location_list,\n",
    "                                start_date,\n",
    "                                end_date,\n",
    "                                frequency,\n",
    "                                location_label = False,\n",
    "                                export_csv = True,\n",
    "                                store_df = True)"
   ]
  },
  {
   "cell_type": "code",
   "execution_count": 1,
   "metadata": {},
   "outputs": [],
   "source": [
    "from wwo_hist import retrieve_hist_data"
   ]
  },
  {
   "cell_type": "code",
   "execution_count": 2,
   "metadata": {},
   "outputs": [],
   "source": [
    "import os\n",
    "os.chdir(\"C:\\\\Users\\\\mosto\\\\REPOSITORY\\\\TimeSeries-IME\\\\dataset\")"
   ]
  },
  {
   "cell_type": "code",
   "execution_count": 4,
   "metadata": {},
   "outputs": [
    {
     "name": "stdout",
     "output_type": "stream",
     "text": [
      "\n",
      "\n",
      "Retrieving weather data for chicago\n",
      "\n",
      "\n",
      "Currently retrieving data for chicago: from 2018-03-14 to 2018-03-21\n",
      "Time elapsed (hh:mm:ss.ms) 0:00:00.979967\n",
      "\n",
      "\n",
      "export chicago completed!\n",
      "\n",
      "\n",
      "\n",
      "\n",
      "Retrieving weather data for fargo\n",
      "\n",
      "\n",
      "Currently retrieving data for fargo: from 2018-03-14 to 2018-03-21\n",
      "Time elapsed (hh:mm:ss.ms) 0:00:01.068129\n",
      "\n",
      "\n",
      "export fargo completed!\n",
      "\n",
      "\n"
     ]
    }
   ],
   "source": [
    "frequency = 1\n",
    "start_date = '14-MAR-2018'\n",
    "end_date = '21-MAR-2018'\n",
    "api_key = 'cd2750a50138430d89c52339201403'\n",
    "location_list = ['chicago','fargo']\n",
    "hist_weather_data = retrieve_hist_data(api_key,\n",
    "                                location_list,\n",
    "                                start_date,\n",
    "                                end_date,\n",
    "                                frequency,\n",
    "                                location_label = False,\n",
    "                                export_csv = True,\n",
    "                                store_df = True)"
   ]
  }
 ],
 "metadata": {
  "kernelspec": {
   "display_name": "Python 3",
   "language": "python",
   "name": "python3"
  },
  "language_info": {
   "codemirror_mode": {
    "name": "ipython",
    "version": 3
   },
   "file_extension": ".py",
   "mimetype": "text/x-python",
   "name": "python",
   "nbconvert_exporter": "python",
   "pygments_lexer": "ipython3",
   "version": "3.7.7"
  }
 },
 "nbformat": 4,
 "nbformat_minor": 4
}
