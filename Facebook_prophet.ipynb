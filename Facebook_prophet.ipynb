{
 "cells": [
  {
   "cell_type": "code",
   "execution_count": 39,
   "metadata": {},
   "outputs": [],
   "source": [
    "import pandas as pd\n",
    "from fbprophet import Prophet\n",
    "import matplotlib.pyplot as plt\n",
    "import numpy as np\n",
    "%matplotlib inline\n",
    "from statsmodels.tools.eval_measures import rmse\n",
    "from fbprophet.diagnostics import cross_validation, performance_metrics\n",
    "from fbprophet.plot import plot_cross_validation_metric"
   ]
  },
  {
   "cell_type": "code",
   "execution_count": 2,
   "metadata": {},
   "outputs": [
    {
     "data": {
      "text/html": [
       "<div>\n",
       "<style scoped>\n",
       "    .dataframe tbody tr th:only-of-type {\n",
       "        vertical-align: middle;\n",
       "    }\n",
       "\n",
       "    .dataframe tbody tr th {\n",
       "        vertical-align: top;\n",
       "    }\n",
       "\n",
       "    .dataframe thead th {\n",
       "        text-align: right;\n",
       "    }\n",
       "</style>\n",
       "<table border=\"1\" class=\"dataframe\">\n",
       "  <thead>\n",
       "    <tr style=\"text-align: right;\">\n",
       "      <th></th>\n",
       "      <th>TIME</th>\n",
       "      <th>CONG</th>\n",
       "    </tr>\n",
       "  </thead>\n",
       "  <tbody>\n",
       "    <tr>\n",
       "      <th>0</th>\n",
       "      <td>3/10/2018</td>\n",
       "      <td>0.486151</td>\n",
       "    </tr>\n",
       "    <tr>\n",
       "      <th>1</th>\n",
       "      <td>3/11/2018</td>\n",
       "      <td>0.531629</td>\n",
       "    </tr>\n",
       "    <tr>\n",
       "      <th>2</th>\n",
       "      <td>3/12/2018</td>\n",
       "      <td>0.524233</td>\n",
       "    </tr>\n",
       "    <tr>\n",
       "      <th>3</th>\n",
       "      <td>3/13/2018</td>\n",
       "      <td>0.516991</td>\n",
       "    </tr>\n",
       "    <tr>\n",
       "      <th>4</th>\n",
       "      <td>3/14/2018</td>\n",
       "      <td>0.515276</td>\n",
       "    </tr>\n",
       "  </tbody>\n",
       "</table>\n",
       "</div>"
      ],
      "text/plain": [
       "        TIME      CONG\n",
       "0  3/10/2018  0.486151\n",
       "1  3/11/2018  0.531629\n",
       "2  3/12/2018  0.524233\n",
       "3  3/13/2018  0.516991\n",
       "4  3/14/2018  0.515276"
      ]
     },
     "execution_count": 2,
     "metadata": {},
     "output_type": "execute_result"
    }
   ],
   "source": [
    "df = pd.read_csv('cleaned---monthly_Without_aggregation.csv')\n",
    "df.head()"
   ]
  },
  {
   "cell_type": "code",
   "execution_count": 3,
   "metadata": {},
   "outputs": [],
   "source": [
    "# df[] = df.astype(np.int64)"
   ]
  },
  {
   "cell_type": "code",
   "execution_count": 4,
   "metadata": {},
   "outputs": [
    {
     "name": "stdout",
     "output_type": "stream",
     "text": [
      "<class 'pandas.core.frame.DataFrame'>\n",
      "RangeIndex: 297 entries, 0 to 296\n",
      "Data columns (total 2 columns):\n",
      " #   Column  Non-Null Count  Dtype  \n",
      "---  ------  --------------  -----  \n",
      " 0   TIME    297 non-null    object \n",
      " 1   CONG    297 non-null    float64\n",
      "dtypes: float64(1), object(1)\n",
      "memory usage: 4.8+ KB\n"
     ]
    }
   ],
   "source": [
    "df.info()"
   ]
  },
  {
   "cell_type": "code",
   "execution_count": 5,
   "metadata": {},
   "outputs": [],
   "source": [
    "df.columns = ['ds','y']"
   ]
  },
  {
   "cell_type": "code",
   "execution_count": 6,
   "metadata": {},
   "outputs": [
    {
     "data": {
      "text/html": [
       "<div>\n",
       "<style scoped>\n",
       "    .dataframe tbody tr th:only-of-type {\n",
       "        vertical-align: middle;\n",
       "    }\n",
       "\n",
       "    .dataframe tbody tr th {\n",
       "        vertical-align: top;\n",
       "    }\n",
       "\n",
       "    .dataframe thead th {\n",
       "        text-align: right;\n",
       "    }\n",
       "</style>\n",
       "<table border=\"1\" class=\"dataframe\">\n",
       "  <thead>\n",
       "    <tr style=\"text-align: right;\">\n",
       "      <th></th>\n",
       "      <th>ds</th>\n",
       "      <th>y</th>\n",
       "    </tr>\n",
       "  </thead>\n",
       "  <tbody>\n",
       "    <tr>\n",
       "      <th>0</th>\n",
       "      <td>3/10/2018</td>\n",
       "      <td>0.486151</td>\n",
       "    </tr>\n",
       "    <tr>\n",
       "      <th>1</th>\n",
       "      <td>3/11/2018</td>\n",
       "      <td>0.531629</td>\n",
       "    </tr>\n",
       "    <tr>\n",
       "      <th>2</th>\n",
       "      <td>3/12/2018</td>\n",
       "      <td>0.524233</td>\n",
       "    </tr>\n",
       "    <tr>\n",
       "      <th>3</th>\n",
       "      <td>3/13/2018</td>\n",
       "      <td>0.516991</td>\n",
       "    </tr>\n",
       "    <tr>\n",
       "      <th>4</th>\n",
       "      <td>3/14/2018</td>\n",
       "      <td>0.515276</td>\n",
       "    </tr>\n",
       "  </tbody>\n",
       "</table>\n",
       "</div>"
      ],
      "text/plain": [
       "          ds         y\n",
       "0  3/10/2018  0.486151\n",
       "1  3/11/2018  0.531629\n",
       "2  3/12/2018  0.524233\n",
       "3  3/13/2018  0.516991\n",
       "4  3/14/2018  0.515276"
      ]
     },
     "execution_count": 6,
     "metadata": {},
     "output_type": "execute_result"
    }
   ],
   "source": [
    "df.head()"
   ]
  },
  {
   "cell_type": "code",
   "execution_count": 7,
   "metadata": {},
   "outputs": [],
   "source": [
    "df['ds'] = pd.to_datetime(df['ds'])"
   ]
  },
  {
   "cell_type": "code",
   "execution_count": 8,
   "metadata": {},
   "outputs": [
    {
     "data": {
      "text/html": [
       "<div>\n",
       "<style scoped>\n",
       "    .dataframe tbody tr th:only-of-type {\n",
       "        vertical-align: middle;\n",
       "    }\n",
       "\n",
       "    .dataframe tbody tr th {\n",
       "        vertical-align: top;\n",
       "    }\n",
       "\n",
       "    .dataframe thead th {\n",
       "        text-align: right;\n",
       "    }\n",
       "</style>\n",
       "<table border=\"1\" class=\"dataframe\">\n",
       "  <thead>\n",
       "    <tr style=\"text-align: right;\">\n",
       "      <th></th>\n",
       "      <th>ds</th>\n",
       "      <th>y</th>\n",
       "    </tr>\n",
       "  </thead>\n",
       "  <tbody>\n",
       "    <tr>\n",
       "      <th>0</th>\n",
       "      <td>2018-03-10</td>\n",
       "      <td>0.486151</td>\n",
       "    </tr>\n",
       "    <tr>\n",
       "      <th>1</th>\n",
       "      <td>2018-03-11</td>\n",
       "      <td>0.531629</td>\n",
       "    </tr>\n",
       "    <tr>\n",
       "      <th>2</th>\n",
       "      <td>2018-03-12</td>\n",
       "      <td>0.524233</td>\n",
       "    </tr>\n",
       "    <tr>\n",
       "      <th>3</th>\n",
       "      <td>2018-03-13</td>\n",
       "      <td>0.516991</td>\n",
       "    </tr>\n",
       "    <tr>\n",
       "      <th>4</th>\n",
       "      <td>2018-03-14</td>\n",
       "      <td>0.515276</td>\n",
       "    </tr>\n",
       "  </tbody>\n",
       "</table>\n",
       "</div>"
      ],
      "text/plain": [
       "          ds         y\n",
       "0 2018-03-10  0.486151\n",
       "1 2018-03-11  0.531629\n",
       "2 2018-03-12  0.524233\n",
       "3 2018-03-13  0.516991\n",
       "4 2018-03-14  0.515276"
      ]
     },
     "execution_count": 8,
     "metadata": {},
     "output_type": "execute_result"
    }
   ],
   "source": [
    "df.head()"
   ]
  },
  {
   "cell_type": "code",
   "execution_count": 9,
   "metadata": {},
   "outputs": [],
   "source": [
    "# m = Prophet()\n",
    "# m.fit(df)"
   ]
  },
  {
   "cell_type": "code",
   "execution_count": 10,
   "metadata": {},
   "outputs": [],
   "source": [
    "# future = m.make_future_dataframe(periods=30, freq='D')"
   ]
  },
  {
   "cell_type": "code",
   "execution_count": 11,
   "metadata": {},
   "outputs": [],
   "source": [
    "# future.tail()"
   ]
  },
  {
   "cell_type": "code",
   "execution_count": 12,
   "metadata": {},
   "outputs": [
    {
     "data": {
      "text/html": [
       "<div>\n",
       "<style scoped>\n",
       "    .dataframe tbody tr th:only-of-type {\n",
       "        vertical-align: middle;\n",
       "    }\n",
       "\n",
       "    .dataframe tbody tr th {\n",
       "        vertical-align: top;\n",
       "    }\n",
       "\n",
       "    .dataframe thead th {\n",
       "        text-align: right;\n",
       "    }\n",
       "</style>\n",
       "<table border=\"1\" class=\"dataframe\">\n",
       "  <thead>\n",
       "    <tr style=\"text-align: right;\">\n",
       "      <th></th>\n",
       "      <th>ds</th>\n",
       "      <th>y</th>\n",
       "    </tr>\n",
       "  </thead>\n",
       "  <tbody>\n",
       "    <tr>\n",
       "      <th>292</th>\n",
       "      <td>2018-12-27</td>\n",
       "      <td>0.547179</td>\n",
       "    </tr>\n",
       "    <tr>\n",
       "      <th>293</th>\n",
       "      <td>2018-12-28</td>\n",
       "      <td>0.559387</td>\n",
       "    </tr>\n",
       "    <tr>\n",
       "      <th>294</th>\n",
       "      <td>2018-12-29</td>\n",
       "      <td>0.527377</td>\n",
       "    </tr>\n",
       "    <tr>\n",
       "      <th>295</th>\n",
       "      <td>2018-12-30</td>\n",
       "      <td>0.553414</td>\n",
       "    </tr>\n",
       "    <tr>\n",
       "      <th>296</th>\n",
       "      <td>2018-12-31</td>\n",
       "      <td>0.555048</td>\n",
       "    </tr>\n",
       "  </tbody>\n",
       "</table>\n",
       "</div>"
      ],
      "text/plain": [
       "            ds         y\n",
       "292 2018-12-27  0.547179\n",
       "293 2018-12-28  0.559387\n",
       "294 2018-12-29  0.527377\n",
       "295 2018-12-30  0.553414\n",
       "296 2018-12-31  0.555048"
      ]
     },
     "execution_count": 12,
     "metadata": {},
     "output_type": "execute_result"
    }
   ],
   "source": [
    "df.tail()"
   ]
  },
  {
   "cell_type": "code",
   "execution_count": 13,
   "metadata": {},
   "outputs": [
    {
     "data": {
      "text/plain": [
       "297"
      ]
     },
     "execution_count": 13,
     "metadata": {},
     "output_type": "execute_result"
    }
   ],
   "source": [
    "len(df)"
   ]
  },
  {
   "cell_type": "code",
   "execution_count": 73,
   "metadata": {},
   "outputs": [],
   "source": [
    "# len(future)"
   ]
  },
  {
   "cell_type": "code",
   "execution_count": 74,
   "metadata": {},
   "outputs": [],
   "source": [
    "forecast = m.predict(future)"
   ]
  },
  {
   "cell_type": "code",
   "execution_count": 75,
   "metadata": {},
   "outputs": [],
   "source": [
    "# forecast.head()"
   ]
  },
  {
   "cell_type": "code",
   "execution_count": 76,
   "metadata": {},
   "outputs": [],
   "source": [
    "# forecast.columns"
   ]
  },
  {
   "cell_type": "code",
   "execution_count": 77,
   "metadata": {},
   "outputs": [
    {
     "data": {
      "text/html": [
       "<div>\n",
       "<style scoped>\n",
       "    .dataframe tbody tr th:only-of-type {\n",
       "        vertical-align: middle;\n",
       "    }\n",
       "\n",
       "    .dataframe tbody tr th {\n",
       "        vertical-align: top;\n",
       "    }\n",
       "\n",
       "    .dataframe thead th {\n",
       "        text-align: right;\n",
       "    }\n",
       "</style>\n",
       "<table border=\"1\" class=\"dataframe\">\n",
       "  <thead>\n",
       "    <tr style=\"text-align: right;\">\n",
       "      <th></th>\n",
       "      <th>ds</th>\n",
       "      <th>yhat_lower</th>\n",
       "      <th>yhat_upper</th>\n",
       "      <th>yhat</th>\n",
       "    </tr>\n",
       "  </thead>\n",
       "  <tbody>\n",
       "    <tr>\n",
       "      <th>266</th>\n",
       "      <td>2018-12-01</td>\n",
       "      <td>0.521994</td>\n",
       "      <td>0.571067</td>\n",
       "      <td>0.545234</td>\n",
       "    </tr>\n",
       "    <tr>\n",
       "      <th>267</th>\n",
       "      <td>2018-12-02</td>\n",
       "      <td>0.544616</td>\n",
       "      <td>0.594563</td>\n",
       "      <td>0.571201</td>\n",
       "    </tr>\n",
       "    <tr>\n",
       "      <th>268</th>\n",
       "      <td>2018-12-03</td>\n",
       "      <td>0.546868</td>\n",
       "      <td>0.594100</td>\n",
       "      <td>0.569936</td>\n",
       "    </tr>\n",
       "    <tr>\n",
       "      <th>269</th>\n",
       "      <td>2018-12-04</td>\n",
       "      <td>0.538759</td>\n",
       "      <td>0.587989</td>\n",
       "      <td>0.564187</td>\n",
       "    </tr>\n",
       "    <tr>\n",
       "      <th>270</th>\n",
       "      <td>2018-12-05</td>\n",
       "      <td>0.539523</td>\n",
       "      <td>0.589803</td>\n",
       "      <td>0.565652</td>\n",
       "    </tr>\n",
       "    <tr>\n",
       "      <th>271</th>\n",
       "      <td>2018-12-06</td>\n",
       "      <td>0.540631</td>\n",
       "      <td>0.589661</td>\n",
       "      <td>0.566323</td>\n",
       "    </tr>\n",
       "    <tr>\n",
       "      <th>272</th>\n",
       "      <td>2018-12-07</td>\n",
       "      <td>0.538526</td>\n",
       "      <td>0.586245</td>\n",
       "      <td>0.562337</td>\n",
       "    </tr>\n",
       "    <tr>\n",
       "      <th>273</th>\n",
       "      <td>2018-12-08</td>\n",
       "      <td>0.525665</td>\n",
       "      <td>0.575902</td>\n",
       "      <td>0.550727</td>\n",
       "    </tr>\n",
       "    <tr>\n",
       "      <th>274</th>\n",
       "      <td>2018-12-09</td>\n",
       "      <td>0.552436</td>\n",
       "      <td>0.601221</td>\n",
       "      <td>0.576695</td>\n",
       "    </tr>\n",
       "    <tr>\n",
       "      <th>275</th>\n",
       "      <td>2018-12-10</td>\n",
       "      <td>0.549532</td>\n",
       "      <td>0.599750</td>\n",
       "      <td>0.575430</td>\n",
       "    </tr>\n",
       "    <tr>\n",
       "      <th>276</th>\n",
       "      <td>2018-12-11</td>\n",
       "      <td>0.544131</td>\n",
       "      <td>0.592486</td>\n",
       "      <td>0.569681</td>\n",
       "    </tr>\n",
       "    <tr>\n",
       "      <th>277</th>\n",
       "      <td>2018-12-12</td>\n",
       "      <td>0.548044</td>\n",
       "      <td>0.596095</td>\n",
       "      <td>0.571146</td>\n",
       "    </tr>\n",
       "    <tr>\n",
       "      <th>278</th>\n",
       "      <td>2018-12-13</td>\n",
       "      <td>0.547008</td>\n",
       "      <td>0.593888</td>\n",
       "      <td>0.571816</td>\n",
       "    </tr>\n",
       "    <tr>\n",
       "      <th>279</th>\n",
       "      <td>2018-12-14</td>\n",
       "      <td>0.544870</td>\n",
       "      <td>0.591375</td>\n",
       "      <td>0.567831</td>\n",
       "    </tr>\n",
       "    <tr>\n",
       "      <th>280</th>\n",
       "      <td>2018-12-15</td>\n",
       "      <td>0.531859</td>\n",
       "      <td>0.579691</td>\n",
       "      <td>0.556221</td>\n",
       "    </tr>\n",
       "    <tr>\n",
       "      <th>281</th>\n",
       "      <td>2018-12-16</td>\n",
       "      <td>0.558727</td>\n",
       "      <td>0.606554</td>\n",
       "      <td>0.582189</td>\n",
       "    </tr>\n",
       "    <tr>\n",
       "      <th>282</th>\n",
       "      <td>2018-12-17</td>\n",
       "      <td>0.555802</td>\n",
       "      <td>0.604032</td>\n",
       "      <td>0.580923</td>\n",
       "    </tr>\n",
       "    <tr>\n",
       "      <th>283</th>\n",
       "      <td>2018-12-18</td>\n",
       "      <td>0.549983</td>\n",
       "      <td>0.598718</td>\n",
       "      <td>0.575175</td>\n",
       "    </tr>\n",
       "    <tr>\n",
       "      <th>284</th>\n",
       "      <td>2018-12-19</td>\n",
       "      <td>0.553912</td>\n",
       "      <td>0.600216</td>\n",
       "      <td>0.576640</td>\n",
       "    </tr>\n",
       "    <tr>\n",
       "      <th>285</th>\n",
       "      <td>2018-12-20</td>\n",
       "      <td>0.554146</td>\n",
       "      <td>0.600683</td>\n",
       "      <td>0.577310</td>\n",
       "    </tr>\n",
       "    <tr>\n",
       "      <th>286</th>\n",
       "      <td>2018-12-21</td>\n",
       "      <td>0.548623</td>\n",
       "      <td>0.595981</td>\n",
       "      <td>0.573324</td>\n",
       "    </tr>\n",
       "    <tr>\n",
       "      <th>287</th>\n",
       "      <td>2018-12-22</td>\n",
       "      <td>0.536848</td>\n",
       "      <td>0.587079</td>\n",
       "      <td>0.561715</td>\n",
       "    </tr>\n",
       "    <tr>\n",
       "      <th>288</th>\n",
       "      <td>2018-12-23</td>\n",
       "      <td>0.563313</td>\n",
       "      <td>0.610167</td>\n",
       "      <td>0.587683</td>\n",
       "    </tr>\n",
       "    <tr>\n",
       "      <th>289</th>\n",
       "      <td>2018-12-24</td>\n",
       "      <td>0.563180</td>\n",
       "      <td>0.608675</td>\n",
       "      <td>0.586417</td>\n",
       "    </tr>\n",
       "    <tr>\n",
       "      <th>290</th>\n",
       "      <td>2018-12-25</td>\n",
       "      <td>0.555999</td>\n",
       "      <td>0.604590</td>\n",
       "      <td>0.580668</td>\n",
       "    </tr>\n",
       "    <tr>\n",
       "      <th>291</th>\n",
       "      <td>2018-12-26</td>\n",
       "      <td>0.560037</td>\n",
       "      <td>0.607398</td>\n",
       "      <td>0.582133</td>\n",
       "    </tr>\n",
       "    <tr>\n",
       "      <th>292</th>\n",
       "      <td>2018-12-27</td>\n",
       "      <td>0.558899</td>\n",
       "      <td>0.608221</td>\n",
       "      <td>0.582804</td>\n",
       "    </tr>\n",
       "    <tr>\n",
       "      <th>293</th>\n",
       "      <td>2018-12-28</td>\n",
       "      <td>0.554733</td>\n",
       "      <td>0.603930</td>\n",
       "      <td>0.578818</td>\n",
       "    </tr>\n",
       "    <tr>\n",
       "      <th>294</th>\n",
       "      <td>2018-12-29</td>\n",
       "      <td>0.541489</td>\n",
       "      <td>0.592552</td>\n",
       "      <td>0.567208</td>\n",
       "    </tr>\n",
       "    <tr>\n",
       "      <th>295</th>\n",
       "      <td>2018-12-30</td>\n",
       "      <td>0.570294</td>\n",
       "      <td>0.617826</td>\n",
       "      <td>0.593176</td>\n",
       "    </tr>\n",
       "  </tbody>\n",
       "</table>\n",
       "</div>"
      ],
      "text/plain": [
       "            ds  yhat_lower  yhat_upper      yhat\n",
       "266 2018-12-01    0.521994    0.571067  0.545234\n",
       "267 2018-12-02    0.544616    0.594563  0.571201\n",
       "268 2018-12-03    0.546868    0.594100  0.569936\n",
       "269 2018-12-04    0.538759    0.587989  0.564187\n",
       "270 2018-12-05    0.539523    0.589803  0.565652\n",
       "271 2018-12-06    0.540631    0.589661  0.566323\n",
       "272 2018-12-07    0.538526    0.586245  0.562337\n",
       "273 2018-12-08    0.525665    0.575902  0.550727\n",
       "274 2018-12-09    0.552436    0.601221  0.576695\n",
       "275 2018-12-10    0.549532    0.599750  0.575430\n",
       "276 2018-12-11    0.544131    0.592486  0.569681\n",
       "277 2018-12-12    0.548044    0.596095  0.571146\n",
       "278 2018-12-13    0.547008    0.593888  0.571816\n",
       "279 2018-12-14    0.544870    0.591375  0.567831\n",
       "280 2018-12-15    0.531859    0.579691  0.556221\n",
       "281 2018-12-16    0.558727    0.606554  0.582189\n",
       "282 2018-12-17    0.555802    0.604032  0.580923\n",
       "283 2018-12-18    0.549983    0.598718  0.575175\n",
       "284 2018-12-19    0.553912    0.600216  0.576640\n",
       "285 2018-12-20    0.554146    0.600683  0.577310\n",
       "286 2018-12-21    0.548623    0.595981  0.573324\n",
       "287 2018-12-22    0.536848    0.587079  0.561715\n",
       "288 2018-12-23    0.563313    0.610167  0.587683\n",
       "289 2018-12-24    0.563180    0.608675  0.586417\n",
       "290 2018-12-25    0.555999    0.604590  0.580668\n",
       "291 2018-12-26    0.560037    0.607398  0.582133\n",
       "292 2018-12-27    0.558899    0.608221  0.582804\n",
       "293 2018-12-28    0.554733    0.603930  0.578818\n",
       "294 2018-12-29    0.541489    0.592552  0.567208\n",
       "295 2018-12-30    0.570294    0.617826  0.593176"
      ]
     },
     "execution_count": 77,
     "metadata": {},
     "output_type": "execute_result"
    }
   ],
   "source": [
    "forecast[['ds','yhat_lower','yhat_upper','yhat']].tail(30)"
   ]
  },
  {
   "cell_type": "code",
   "execution_count": 78,
   "metadata": {},
   "outputs": [
    {
     "data": {
      "image/png": "[encoded data removed]",
      "text/plain": [
       "<Figure size 720x432 with 1 Axes>"
      ]
     },
     "metadata": {},
     "output_type": "display_data"
    }
   ],
   "source": [
    "m.plot(forecast);"
   ]
  },
  {
   "cell_type": "code",
   "execution_count": 79,
   "metadata": {},
   "outputs": [
    {
     "data": {
      "text/plain": [
       "<matplotlib.axes._subplots.AxesSubplot at 0x2075d846c50>"
      ]
     },
     "execution_count": 79,
     "metadata": {},
     "output_type": "execute_result"
    },
    {
     "data": {
      "image/png": "[encoded data removed]",
      "text/plain": [
       "<Figure size 1008x360 with 1 Axes>"
      ]
     },
     "metadata": {
      "needs_background": "light"
     },
     "output_type": "display_data"
    }
   ],
   "source": [
    "forecast.plot(x='ds',y='yhat',figsize=(14,5))"
   ]
  },
  {
   "cell_type": "code",
   "execution_count": 21,
   "metadata": {},
   "outputs": [],
   "source": [
    "# m.plot_components(forecast);"
   ]
  },
  {
   "cell_type": "code",
   "execution_count": 22,
   "metadata": {},
   "outputs": [
    {
     "data": {
      "text/plain": [
       "297"
      ]
     },
     "execution_count": 22,
     "metadata": {},
     "output_type": "execute_result"
    }
   ],
   "source": [
    "len(df)"
   ]
  },
  {
   "cell_type": "code",
   "execution_count": 28,
   "metadata": {},
   "outputs": [],
   "source": [
    "train = df.iloc[:266]\n",
    "test = df.iloc[266:]"
   ]
  },
  {
   "cell_type": "code",
   "execution_count": 29,
   "metadata": {},
   "outputs": [
    {
     "name": "stderr",
     "output_type": "stream",
     "text": [
      "INFO:fbprophet:Disabling yearly seasonality. Run prophet with yearly_seasonality=True to override this.\n",
      "INFO:fbprophet:Disabling daily seasonality. Run prophet with daily_seasonality=True to override this.\n"
     ]
    }
   ],
   "source": [
    "m = Prophet()\n",
    "m.fit(train)\n",
    "future = m.make_future_dataframe(periods=30, freq='D')\n",
    "forecast = m.predict(future)"
   ]
  },
  {
   "cell_type": "code",
   "execution_count": 32,
   "metadata": {},
   "outputs": [
    {
     "data": {
      "text/plain": [
       "<matplotlib.axes._subplots.AxesSubplot at 0x2075cdb7550>"
      ]
     },
     "execution_count": 32,
     "metadata": {},
     "output_type": "execute_result"
    },
    {
     "data": {
      "image/png": "[encoded data removed]",
      "text/plain": [
       "<Figure size 1080x360 with 1 Axes>"
      ]
     },
     "metadata": {
      "needs_background": "light"
     },
     "output_type": "display_data"
    }
   ],
   "source": [
    "ax = forecast.plot(x='ds', y='yhat', label='Prediction', legend=True, figsize=(15,5))\n",
    "test.plot(x='ds',y='y', label='True Test Data', legend=True, ax=ax, xlim=('2018-12-01','2018-12-31'))"
   ]
  },
  {
   "cell_type": "code",
   "execution_count": 31,
   "metadata": {},
   "outputs": [
    {
     "data": {
      "text/html": [
       "<div>\n",
       "<style scoped>\n",
       "    .dataframe tbody tr th:only-of-type {\n",
       "        vertical-align: middle;\n",
       "    }\n",
       "\n",
       "    .dataframe tbody tr th {\n",
       "        vertical-align: top;\n",
       "    }\n",
       "\n",
       "    .dataframe thead th {\n",
       "        text-align: right;\n",
       "    }\n",
       "</style>\n",
       "<table border=\"1\" class=\"dataframe\">\n",
       "  <thead>\n",
       "    <tr style=\"text-align: right;\">\n",
       "      <th></th>\n",
       "      <th>ds</th>\n",
       "      <th>y</th>\n",
       "    </tr>\n",
       "  </thead>\n",
       "  <tbody>\n",
       "    <tr>\n",
       "      <th>266</th>\n",
       "      <td>2018-12-01</td>\n",
       "      <td>0.544516</td>\n",
       "    </tr>\n",
       "    <tr>\n",
       "      <th>267</th>\n",
       "      <td>2018-12-02</td>\n",
       "      <td>0.547063</td>\n",
       "    </tr>\n",
       "    <tr>\n",
       "      <th>268</th>\n",
       "      <td>2018-12-03</td>\n",
       "      <td>0.556577</td>\n",
       "    </tr>\n",
       "    <tr>\n",
       "      <th>269</th>\n",
       "      <td>2018-12-04</td>\n",
       "      <td>0.577431</td>\n",
       "    </tr>\n",
       "    <tr>\n",
       "      <th>270</th>\n",
       "      <td>2018-12-05</td>\n",
       "      <td>0.557224</td>\n",
       "    </tr>\n",
       "    <tr>\n",
       "      <th>271</th>\n",
       "      <td>2018-12-06</td>\n",
       "      <td>0.559759</td>\n",
       "    </tr>\n",
       "    <tr>\n",
       "      <th>272</th>\n",
       "      <td>2018-12-07</td>\n",
       "      <td>0.557056</td>\n",
       "    </tr>\n",
       "    <tr>\n",
       "      <th>273</th>\n",
       "      <td>2018-12-08</td>\n",
       "      <td>0.551163</td>\n",
       "    </tr>\n",
       "    <tr>\n",
       "      <th>274</th>\n",
       "      <td>2018-12-09</td>\n",
       "      <td>0.579481</td>\n",
       "    </tr>\n",
       "    <tr>\n",
       "      <th>275</th>\n",
       "      <td>2018-12-10</td>\n",
       "      <td>0.570351</td>\n",
       "    </tr>\n",
       "    <tr>\n",
       "      <th>276</th>\n",
       "      <td>2018-12-11</td>\n",
       "      <td>0.555165</td>\n",
       "    </tr>\n",
       "    <tr>\n",
       "      <th>277</th>\n",
       "      <td>2018-12-12</td>\n",
       "      <td>0.560755</td>\n",
       "    </tr>\n",
       "    <tr>\n",
       "      <th>278</th>\n",
       "      <td>2018-12-13</td>\n",
       "      <td>0.569965</td>\n",
       "    </tr>\n",
       "    <tr>\n",
       "      <th>279</th>\n",
       "      <td>2018-12-14</td>\n",
       "      <td>0.556672</td>\n",
       "    </tr>\n",
       "    <tr>\n",
       "      <th>280</th>\n",
       "      <td>2018-12-15</td>\n",
       "      <td>0.539648</td>\n",
       "    </tr>\n",
       "    <tr>\n",
       "      <th>281</th>\n",
       "      <td>2018-12-16</td>\n",
       "      <td>0.565243</td>\n",
       "    </tr>\n",
       "    <tr>\n",
       "      <th>282</th>\n",
       "      <td>2018-12-17</td>\n",
       "      <td>0.560595</td>\n",
       "    </tr>\n",
       "    <tr>\n",
       "      <th>283</th>\n",
       "      <td>2018-12-18</td>\n",
       "      <td>0.564944</td>\n",
       "    </tr>\n",
       "    <tr>\n",
       "      <th>284</th>\n",
       "      <td>2018-12-19</td>\n",
       "      <td>0.560831</td>\n",
       "    </tr>\n",
       "    <tr>\n",
       "      <th>285</th>\n",
       "      <td>2018-12-20</td>\n",
       "      <td>0.523552</td>\n",
       "    </tr>\n",
       "    <tr>\n",
       "      <th>286</th>\n",
       "      <td>2018-12-21</td>\n",
       "      <td>0.514050</td>\n",
       "    </tr>\n",
       "    <tr>\n",
       "      <th>287</th>\n",
       "      <td>2018-12-22</td>\n",
       "      <td>0.553504</td>\n",
       "    </tr>\n",
       "    <tr>\n",
       "      <th>288</th>\n",
       "      <td>2018-12-23</td>\n",
       "      <td>0.572998</td>\n",
       "    </tr>\n",
       "    <tr>\n",
       "      <th>289</th>\n",
       "      <td>2018-12-24</td>\n",
       "      <td>0.565297</td>\n",
       "    </tr>\n",
       "    <tr>\n",
       "      <th>290</th>\n",
       "      <td>2018-12-25</td>\n",
       "      <td>0.561574</td>\n",
       "    </tr>\n",
       "    <tr>\n",
       "      <th>291</th>\n",
       "      <td>2018-12-26</td>\n",
       "      <td>0.562727</td>\n",
       "    </tr>\n",
       "    <tr>\n",
       "      <th>292</th>\n",
       "      <td>2018-12-27</td>\n",
       "      <td>0.547179</td>\n",
       "    </tr>\n",
       "    <tr>\n",
       "      <th>293</th>\n",
       "      <td>2018-12-28</td>\n",
       "      <td>0.559387</td>\n",
       "    </tr>\n",
       "    <tr>\n",
       "      <th>294</th>\n",
       "      <td>2018-12-29</td>\n",
       "      <td>0.527377</td>\n",
       "    </tr>\n",
       "    <tr>\n",
       "      <th>295</th>\n",
       "      <td>2018-12-30</td>\n",
       "      <td>0.553414</td>\n",
       "    </tr>\n",
       "    <tr>\n",
       "      <th>296</th>\n",
       "      <td>2018-12-31</td>\n",
       "      <td>0.555048</td>\n",
       "    </tr>\n",
       "  </tbody>\n",
       "</table>\n",
       "</div>"
      ],
      "text/plain": [
       "            ds         y\n",
       "266 2018-12-01  0.544516\n",
       "267 2018-12-02  0.547063\n",
       "268 2018-12-03  0.556577\n",
       "269 2018-12-04  0.577431\n",
       "270 2018-12-05  0.557224\n",
       "271 2018-12-06  0.559759\n",
       "272 2018-12-07  0.557056\n",
       "273 2018-12-08  0.551163\n",
       "274 2018-12-09  0.579481\n",
       "275 2018-12-10  0.570351\n",
       "276 2018-12-11  0.555165\n",
       "277 2018-12-12  0.560755\n",
       "278 2018-12-13  0.569965\n",
       "279 2018-12-14  0.556672\n",
       "280 2018-12-15  0.539648\n",
       "281 2018-12-16  0.565243\n",
       "282 2018-12-17  0.560595\n",
       "283 2018-12-18  0.564944\n",
       "284 2018-12-19  0.560831\n",
       "285 2018-12-20  0.523552\n",
       "286 2018-12-21  0.514050\n",
       "287 2018-12-22  0.553504\n",
       "288 2018-12-23  0.572998\n",
       "289 2018-12-24  0.565297\n",
       "290 2018-12-25  0.561574\n",
       "291 2018-12-26  0.562727\n",
       "292 2018-12-27  0.547179\n",
       "293 2018-12-28  0.559387\n",
       "294 2018-12-29  0.527377\n",
       "295 2018-12-30  0.553414\n",
       "296 2018-12-31  0.555048"
      ]
     },
     "execution_count": 31,
     "metadata": {},
     "output_type": "execute_result"
    }
   ],
   "source": [
    "test"
   ]
  },
  {
   "cell_type": "code",
   "execution_count": 34,
   "metadata": {},
   "outputs": [],
   "source": [
    "predictions = forecast.iloc[-31:]['yhat']"
   ]
  },
  {
   "cell_type": "code",
   "execution_count": 35,
   "metadata": {},
   "outputs": [
    {
     "data": {
      "text/plain": [
       "265    0.556843\n",
       "266    0.545234\n",
       "267    0.571201\n",
       "268    0.569936\n",
       "269    0.564187\n",
       "270    0.565652\n",
       "271    0.566323\n",
       "272    0.562337\n",
       "273    0.550727\n",
       "274    0.576695\n",
       "275    0.575430\n",
       "276    0.569681\n",
       "277    0.571146\n",
       "278    0.571816\n",
       "279    0.567831\n",
       "280    0.556221\n",
       "281    0.582189\n",
       "282    0.580923\n",
       "283    0.575175\n",
       "284    0.576640\n",
       "285    0.577310\n",
       "286    0.573324\n",
       "287    0.561715\n",
       "288    0.587683\n",
       "289    0.586417\n",
       "290    0.580668\n",
       "291    0.582133\n",
       "292    0.582804\n",
       "293    0.578818\n",
       "294    0.567208\n",
       "295    0.593176\n",
       "Name: yhat, dtype: float64"
      ]
     },
     "execution_count": 35,
     "metadata": {},
     "output_type": "execute_result"
    }
   ],
   "source": [
    "predictions"
   ]
  },
  {
   "cell_type": "code",
   "execution_count": 36,
   "metadata": {},
   "outputs": [
    {
     "data": {
      "text/plain": [
       "266    0.544516\n",
       "267    0.547063\n",
       "268    0.556577\n",
       "269    0.577431\n",
       "270    0.557224\n",
       "271    0.559759\n",
       "272    0.557056\n",
       "273    0.551163\n",
       "274    0.579481\n",
       "275    0.570351\n",
       "276    0.555165\n",
       "277    0.560755\n",
       "278    0.569965\n",
       "279    0.556672\n",
       "280    0.539648\n",
       "281    0.565243\n",
       "282    0.560595\n",
       "283    0.564944\n",
       "284    0.560831\n",
       "285    0.523552\n",
       "286    0.514050\n",
       "287    0.553504\n",
       "288    0.572998\n",
       "289    0.565297\n",
       "290    0.561574\n",
       "291    0.562727\n",
       "292    0.547179\n",
       "293    0.559387\n",
       "294    0.527377\n",
       "295    0.553414\n",
       "296    0.555048\n",
       "Name: y, dtype: float64"
      ]
     },
     "execution_count": 36,
     "metadata": {},
     "output_type": "execute_result"
    }
   ],
   "source": [
    "test['y']"
   ]
  },
  {
   "cell_type": "code",
   "execution_count": 37,
   "metadata": {},
   "outputs": [
    {
     "data": {
      "text/plain": [
       "0.02472524319143248"
      ]
     },
     "execution_count": 37,
     "metadata": {},
     "output_type": "execute_result"
    }
   ],
   "source": [
    "rmse(predictions,test['y'])"
   ]
  },
  {
   "cell_type": "code",
   "execution_count": 38,
   "metadata": {},
   "outputs": [
    {
     "data": {
      "text/plain": [
       "y    0.555824\n",
       "dtype: float64"
      ]
     },
     "execution_count": 38,
     "metadata": {},
     "output_type": "execute_result"
    }
   ],
   "source": [
    "test.mean()"
   ]
  },
  {
   "cell_type": "code",
   "execution_count": 41,
   "metadata": {},
   "outputs": [
    {
     "data": {
      "image/png": "[encoded data removed]",
      "text/plain": [
       "<Figure size 648x432 with 2 Axes>"
      ]
     },
     "metadata": {},
     "output_type": "display_data"
    }
   ],
   "source": [
    "m.plot_components(forecast);"
   ]
  },
  {
   "cell_type": "code",
   "execution_count": 43,
   "metadata": {},
   "outputs": [
    {
     "data": {
      "text/html": [
       "<div>\n",
       "<style scoped>\n",
       "    .dataframe tbody tr th:only-of-type {\n",
       "        vertical-align: middle;\n",
       "    }\n",
       "\n",
       "    .dataframe tbody tr th {\n",
       "        vertical-align: top;\n",
       "    }\n",
       "\n",
       "    .dataframe thead th {\n",
       "        text-align: right;\n",
       "    }\n",
       "</style>\n",
       "<table border=\"1\" class=\"dataframe\">\n",
       "  <thead>\n",
       "    <tr style=\"text-align: right;\">\n",
       "      <th></th>\n",
       "      <th>ds</th>\n",
       "      <th>y</th>\n",
       "    </tr>\n",
       "  </thead>\n",
       "  <tbody>\n",
       "    <tr>\n",
       "      <th>0</th>\n",
       "      <td>2018-03-10</td>\n",
       "      <td>0.486151</td>\n",
       "    </tr>\n",
       "    <tr>\n",
       "      <th>1</th>\n",
       "      <td>2018-03-11</td>\n",
       "      <td>0.531629</td>\n",
       "    </tr>\n",
       "    <tr>\n",
       "      <th>2</th>\n",
       "      <td>2018-03-12</td>\n",
       "      <td>0.524233</td>\n",
       "    </tr>\n",
       "    <tr>\n",
       "      <th>3</th>\n",
       "      <td>2018-03-13</td>\n",
       "      <td>0.516991</td>\n",
       "    </tr>\n",
       "    <tr>\n",
       "      <th>4</th>\n",
       "      <td>2018-03-14</td>\n",
       "      <td>0.515276</td>\n",
       "    </tr>\n",
       "    <tr>\n",
       "      <th>5</th>\n",
       "      <td>2018-03-15</td>\n",
       "      <td>0.513442</td>\n",
       "    </tr>\n",
       "    <tr>\n",
       "      <th>6</th>\n",
       "      <td>2018-03-16</td>\n",
       "      <td>0.529972</td>\n",
       "    </tr>\n",
       "    <tr>\n",
       "      <th>7</th>\n",
       "      <td>2018-03-17</td>\n",
       "      <td>0.494025</td>\n",
       "    </tr>\n",
       "    <tr>\n",
       "      <th>8</th>\n",
       "      <td>2018-03-18</td>\n",
       "      <td>0.517023</td>\n",
       "    </tr>\n",
       "    <tr>\n",
       "      <th>9</th>\n",
       "      <td>2018-03-19</td>\n",
       "      <td>0.508026</td>\n",
       "    </tr>\n",
       "    <tr>\n",
       "      <th>10</th>\n",
       "      <td>2018-03-20</td>\n",
       "      <td>0.513925</td>\n",
       "    </tr>\n",
       "    <tr>\n",
       "      <th>11</th>\n",
       "      <td>2018-03-21</td>\n",
       "      <td>0.513023</td>\n",
       "    </tr>\n",
       "    <tr>\n",
       "      <th>12</th>\n",
       "      <td>2018-03-22</td>\n",
       "      <td>0.517628</td>\n",
       "    </tr>\n",
       "    <tr>\n",
       "      <th>13</th>\n",
       "      <td>2018-03-23</td>\n",
       "      <td>0.521903</td>\n",
       "    </tr>\n",
       "    <tr>\n",
       "      <th>14</th>\n",
       "      <td>2018-03-24</td>\n",
       "      <td>0.511538</td>\n",
       "    </tr>\n",
       "    <tr>\n",
       "      <th>15</th>\n",
       "      <td>2018-03-25</td>\n",
       "      <td>0.508814</td>\n",
       "    </tr>\n",
       "    <tr>\n",
       "      <th>16</th>\n",
       "      <td>2018-03-26</td>\n",
       "      <td>0.503923</td>\n",
       "    </tr>\n",
       "    <tr>\n",
       "      <th>17</th>\n",
       "      <td>2018-03-27</td>\n",
       "      <td>0.516413</td>\n",
       "    </tr>\n",
       "    <tr>\n",
       "      <th>18</th>\n",
       "      <td>2018-03-28</td>\n",
       "      <td>0.512425</td>\n",
       "    </tr>\n",
       "    <tr>\n",
       "      <th>19</th>\n",
       "      <td>2018-03-29</td>\n",
       "      <td>0.505408</td>\n",
       "    </tr>\n",
       "    <tr>\n",
       "      <th>20</th>\n",
       "      <td>2018-03-30</td>\n",
       "      <td>0.513967</td>\n",
       "    </tr>\n",
       "    <tr>\n",
       "      <th>21</th>\n",
       "      <td>2018-03-31</td>\n",
       "      <td>0.491901</td>\n",
       "    </tr>\n",
       "    <tr>\n",
       "      <th>22</th>\n",
       "      <td>2018-04-01</td>\n",
       "      <td>0.526681</td>\n",
       "    </tr>\n",
       "    <tr>\n",
       "      <th>23</th>\n",
       "      <td>2018-04-02</td>\n",
       "      <td>0.519062</td>\n",
       "    </tr>\n",
       "    <tr>\n",
       "      <th>24</th>\n",
       "      <td>2018-04-03</td>\n",
       "      <td>0.509538</td>\n",
       "    </tr>\n",
       "    <tr>\n",
       "      <th>25</th>\n",
       "      <td>2018-04-04</td>\n",
       "      <td>0.518149</td>\n",
       "    </tr>\n",
       "    <tr>\n",
       "      <th>26</th>\n",
       "      <td>2018-04-05</td>\n",
       "      <td>0.521066</td>\n",
       "    </tr>\n",
       "    <tr>\n",
       "      <th>27</th>\n",
       "      <td>2018-04-06</td>\n",
       "      <td>0.507381</td>\n",
       "    </tr>\n",
       "    <tr>\n",
       "      <th>28</th>\n",
       "      <td>2018-04-07</td>\n",
       "      <td>0.518833</td>\n",
       "    </tr>\n",
       "    <tr>\n",
       "      <th>29</th>\n",
       "      <td>2018-04-08</td>\n",
       "      <td>0.534498</td>\n",
       "    </tr>\n",
       "  </tbody>\n",
       "</table>\n",
       "</div>"
      ],
      "text/plain": [
       "           ds         y\n",
       "0  2018-03-10  0.486151\n",
       "1  2018-03-11  0.531629\n",
       "2  2018-03-12  0.524233\n",
       "3  2018-03-13  0.516991\n",
       "4  2018-03-14  0.515276\n",
       "5  2018-03-15  0.513442\n",
       "6  2018-03-16  0.529972\n",
       "7  2018-03-17  0.494025\n",
       "8  2018-03-18  0.517023\n",
       "9  2018-03-19  0.508026\n",
       "10 2018-03-20  0.513925\n",
       "11 2018-03-21  0.513023\n",
       "12 2018-03-22  0.517628\n",
       "13 2018-03-23  0.521903\n",
       "14 2018-03-24  0.511538\n",
       "15 2018-03-25  0.508814\n",
       "16 2018-03-26  0.503923\n",
       "17 2018-03-27  0.516413\n",
       "18 2018-03-28  0.512425\n",
       "19 2018-03-29  0.505408\n",
       "20 2018-03-30  0.513967\n",
       "21 2018-03-31  0.491901\n",
       "22 2018-04-01  0.526681\n",
       "23 2018-04-02  0.519062\n",
       "24 2018-04-03  0.509538\n",
       "25 2018-04-04  0.518149\n",
       "26 2018-04-05  0.521066\n",
       "27 2018-04-06  0.507381\n",
       "28 2018-04-07  0.518833\n",
       "29 2018-04-08  0.534498"
      ]
     },
     "execution_count": 43,
     "metadata": {},
     "output_type": "execute_result"
    }
   ],
   "source": [
    "train.head(30)"
   ]
  },
  {
   "cell_type": "code",
   "execution_count": 56,
   "metadata": {},
   "outputs": [],
   "source": [
    "initial = 5*30\n",
    "initial = str(initial)+' days'"
   ]
  },
  {
   "cell_type": "code",
   "execution_count": 57,
   "metadata": {},
   "outputs": [
    {
     "data": {
      "text/plain": [
       "'150 days'"
      ]
     },
     "execution_count": 57,
     "metadata": {},
     "output_type": "execute_result"
    }
   ],
   "source": [
    "initial"
   ]
  },
  {
   "cell_type": "code",
   "execution_count": 58,
   "metadata": {},
   "outputs": [],
   "source": [
    "period = 5*30\n",
    "period = str(period)+' days'"
   ]
  },
  {
   "cell_type": "code",
   "execution_count": 59,
   "metadata": {},
   "outputs": [
    {
     "data": {
      "text/plain": [
       "'150 days'"
      ]
     },
     "execution_count": 59,
     "metadata": {},
     "output_type": "execute_result"
    }
   ],
   "source": [
    "period"
   ]
  },
  {
   "cell_type": "code",
   "execution_count": 62,
   "metadata": {},
   "outputs": [],
   "source": [
    "horizon = 30\n",
    "horizon = str(horizon)+' days'"
   ]
  },
  {
   "cell_type": "code",
   "execution_count": 63,
   "metadata": {},
   "outputs": [
    {
     "data": {
      "text/plain": [
       "'30 days'"
      ]
     },
     "execution_count": 63,
     "metadata": {},
     "output_type": "execute_result"
    }
   ],
   "source": [
    "horizon"
   ]
  },
  {
   "cell_type": "code",
   "execution_count": 65,
   "metadata": {},
   "outputs": [
    {
     "name": "stderr",
     "output_type": "stream",
     "text": [
      "INFO:fbprophet:Making 1 forecasts with cutoffs between 2018-10-31 00:00:00 and 2018-10-31 00:00:00\n"
     ]
    }
   ],
   "source": [
    "df_cv = cross_validation(m, initial=initial, period=period, horizon=horizon)"
   ]
  },
  {
   "cell_type": "code",
   "execution_count": 67,
   "metadata": {},
   "outputs": [
    {
     "data": {
      "text/html": [
       "<div>\n",
       "<style scoped>\n",
       "    .dataframe tbody tr th:only-of-type {\n",
       "        vertical-align: middle;\n",
       "    }\n",
       "\n",
       "    .dataframe tbody tr th {\n",
       "        vertical-align: top;\n",
       "    }\n",
       "\n",
       "    .dataframe thead th {\n",
       "        text-align: right;\n",
       "    }\n",
       "</style>\n",
       "<table border=\"1\" class=\"dataframe\">\n",
       "  <thead>\n",
       "    <tr style=\"text-align: right;\">\n",
       "      <th></th>\n",
       "      <th>ds</th>\n",
       "      <th>yhat</th>\n",
       "      <th>yhat_lower</th>\n",
       "      <th>yhat_upper</th>\n",
       "      <th>y</th>\n",
       "      <th>cutoff</th>\n",
       "    </tr>\n",
       "  </thead>\n",
       "  <tbody>\n",
       "    <tr>\n",
       "      <th>0</th>\n",
       "      <td>2018-11-01</td>\n",
       "      <td>0.515334</td>\n",
       "      <td>0.493828</td>\n",
       "      <td>0.537619</td>\n",
       "      <td>0.550425</td>\n",
       "      <td>2018-10-31</td>\n",
       "    </tr>\n",
       "    <tr>\n",
       "      <th>1</th>\n",
       "      <td>2018-11-02</td>\n",
       "      <td>0.510750</td>\n",
       "      <td>0.486902</td>\n",
       "      <td>0.534559</td>\n",
       "      <td>0.556759</td>\n",
       "      <td>2018-10-31</td>\n",
       "    </tr>\n",
       "    <tr>\n",
       "      <th>2</th>\n",
       "      <td>2018-11-03</td>\n",
       "      <td>0.498501</td>\n",
       "      <td>0.477243</td>\n",
       "      <td>0.521630</td>\n",
       "      <td>0.554842</td>\n",
       "      <td>2018-10-31</td>\n",
       "    </tr>\n",
       "    <tr>\n",
       "      <th>3</th>\n",
       "      <td>2018-11-04</td>\n",
       "      <td>0.525201</td>\n",
       "      <td>0.503765</td>\n",
       "      <td>0.546864</td>\n",
       "      <td>0.553771</td>\n",
       "      <td>2018-10-31</td>\n",
       "    </tr>\n",
       "    <tr>\n",
       "      <th>4</th>\n",
       "      <td>2018-11-05</td>\n",
       "      <td>0.522168</td>\n",
       "      <td>0.498998</td>\n",
       "      <td>0.544188</td>\n",
       "      <td>0.549769</td>\n",
       "      <td>2018-10-31</td>\n",
       "    </tr>\n",
       "    <tr>\n",
       "      <th>5</th>\n",
       "      <td>2018-11-06</td>\n",
       "      <td>0.515947</td>\n",
       "      <td>0.494909</td>\n",
       "      <td>0.537910</td>\n",
       "      <td>0.552424</td>\n",
       "      <td>2018-10-31</td>\n",
       "    </tr>\n",
       "    <tr>\n",
       "      <th>6</th>\n",
       "      <td>2018-11-07</td>\n",
       "      <td>0.516013</td>\n",
       "      <td>0.492431</td>\n",
       "      <td>0.537395</td>\n",
       "      <td>0.560004</td>\n",
       "      <td>2018-10-31</td>\n",
       "    </tr>\n",
       "    <tr>\n",
       "      <th>7</th>\n",
       "      <td>2018-11-08</td>\n",
       "      <td>0.515622</td>\n",
       "      <td>0.492202</td>\n",
       "      <td>0.537026</td>\n",
       "      <td>0.571848</td>\n",
       "      <td>2018-10-31</td>\n",
       "    </tr>\n",
       "    <tr>\n",
       "      <th>8</th>\n",
       "      <td>2018-11-09</td>\n",
       "      <td>0.511037</td>\n",
       "      <td>0.486559</td>\n",
       "      <td>0.535121</td>\n",
       "      <td>0.533991</td>\n",
       "      <td>2018-10-31</td>\n",
       "    </tr>\n",
       "    <tr>\n",
       "      <th>9</th>\n",
       "      <td>2018-11-10</td>\n",
       "      <td>0.498788</td>\n",
       "      <td>0.475730</td>\n",
       "      <td>0.519839</td>\n",
       "      <td>0.546661</td>\n",
       "      <td>2018-10-31</td>\n",
       "    </tr>\n",
       "    <tr>\n",
       "      <th>10</th>\n",
       "      <td>2018-11-11</td>\n",
       "      <td>0.525488</td>\n",
       "      <td>0.503554</td>\n",
       "      <td>0.547568</td>\n",
       "      <td>0.582234</td>\n",
       "      <td>2018-10-31</td>\n",
       "    </tr>\n",
       "    <tr>\n",
       "      <th>11</th>\n",
       "      <td>2018-11-12</td>\n",
       "      <td>0.522456</td>\n",
       "      <td>0.499402</td>\n",
       "      <td>0.543551</td>\n",
       "      <td>0.571675</td>\n",
       "      <td>2018-10-31</td>\n",
       "    </tr>\n",
       "    <tr>\n",
       "      <th>12</th>\n",
       "      <td>2018-11-13</td>\n",
       "      <td>0.516234</td>\n",
       "      <td>0.493902</td>\n",
       "      <td>0.538574</td>\n",
       "      <td>0.563653</td>\n",
       "      <td>2018-10-31</td>\n",
       "    </tr>\n",
       "    <tr>\n",
       "      <th>13</th>\n",
       "      <td>2018-11-14</td>\n",
       "      <td>0.516301</td>\n",
       "      <td>0.494824</td>\n",
       "      <td>0.538108</td>\n",
       "      <td>0.599772</td>\n",
       "      <td>2018-10-31</td>\n",
       "    </tr>\n",
       "    <tr>\n",
       "      <th>14</th>\n",
       "      <td>2018-11-15</td>\n",
       "      <td>0.515909</td>\n",
       "      <td>0.493570</td>\n",
       "      <td>0.538920</td>\n",
       "      <td>0.571142</td>\n",
       "      <td>2018-10-31</td>\n",
       "    </tr>\n",
       "    <tr>\n",
       "      <th>15</th>\n",
       "      <td>2018-11-16</td>\n",
       "      <td>0.511324</td>\n",
       "      <td>0.488527</td>\n",
       "      <td>0.536024</td>\n",
       "      <td>0.563564</td>\n",
       "      <td>2018-10-31</td>\n",
       "    </tr>\n",
       "    <tr>\n",
       "      <th>16</th>\n",
       "      <td>2018-11-17</td>\n",
       "      <td>0.499076</td>\n",
       "      <td>0.475237</td>\n",
       "      <td>0.521695</td>\n",
       "      <td>0.515920</td>\n",
       "      <td>2018-10-31</td>\n",
       "    </tr>\n",
       "    <tr>\n",
       "      <th>17</th>\n",
       "      <td>2018-11-18</td>\n",
       "      <td>0.525775</td>\n",
       "      <td>0.502625</td>\n",
       "      <td>0.546973</td>\n",
       "      <td>0.550186</td>\n",
       "      <td>2018-10-31</td>\n",
       "    </tr>\n",
       "    <tr>\n",
       "      <th>18</th>\n",
       "      <td>2018-11-19</td>\n",
       "      <td>0.522743</td>\n",
       "      <td>0.500499</td>\n",
       "      <td>0.546197</td>\n",
       "      <td>0.629669</td>\n",
       "      <td>2018-10-31</td>\n",
       "    </tr>\n",
       "    <tr>\n",
       "      <th>19</th>\n",
       "      <td>2018-11-20</td>\n",
       "      <td>0.516521</td>\n",
       "      <td>0.494176</td>\n",
       "      <td>0.537981</td>\n",
       "      <td>0.573559</td>\n",
       "      <td>2018-10-31</td>\n",
       "    </tr>\n",
       "    <tr>\n",
       "      <th>20</th>\n",
       "      <td>2018-11-21</td>\n",
       "      <td>0.516588</td>\n",
       "      <td>0.494351</td>\n",
       "      <td>0.537937</td>\n",
       "      <td>0.576311</td>\n",
       "      <td>2018-10-31</td>\n",
       "    </tr>\n",
       "    <tr>\n",
       "      <th>21</th>\n",
       "      <td>2018-11-22</td>\n",
       "      <td>0.516196</td>\n",
       "      <td>0.494767</td>\n",
       "      <td>0.539054</td>\n",
       "      <td>0.556618</td>\n",
       "      <td>2018-10-31</td>\n",
       "    </tr>\n",
       "    <tr>\n",
       "      <th>22</th>\n",
       "      <td>2018-11-23</td>\n",
       "      <td>0.511612</td>\n",
       "      <td>0.489027</td>\n",
       "      <td>0.534836</td>\n",
       "      <td>0.563609</td>\n",
       "      <td>2018-10-31</td>\n",
       "    </tr>\n",
       "    <tr>\n",
       "      <th>23</th>\n",
       "      <td>2018-11-24</td>\n",
       "      <td>0.499363</td>\n",
       "      <td>0.476898</td>\n",
       "      <td>0.521886</td>\n",
       "      <td>0.554159</td>\n",
       "      <td>2018-10-31</td>\n",
       "    </tr>\n",
       "    <tr>\n",
       "      <th>24</th>\n",
       "      <td>2018-11-25</td>\n",
       "      <td>0.526063</td>\n",
       "      <td>0.503671</td>\n",
       "      <td>0.548650</td>\n",
       "      <td>0.541785</td>\n",
       "      <td>2018-10-31</td>\n",
       "    </tr>\n",
       "    <tr>\n",
       "      <th>25</th>\n",
       "      <td>2018-11-26</td>\n",
       "      <td>0.523030</td>\n",
       "      <td>0.499748</td>\n",
       "      <td>0.544587</td>\n",
       "      <td>0.510115</td>\n",
       "      <td>2018-10-31</td>\n",
       "    </tr>\n",
       "    <tr>\n",
       "      <th>26</th>\n",
       "      <td>2018-11-27</td>\n",
       "      <td>0.516809</td>\n",
       "      <td>0.493144</td>\n",
       "      <td>0.537969</td>\n",
       "      <td>0.543049</td>\n",
       "      <td>2018-10-31</td>\n",
       "    </tr>\n",
       "    <tr>\n",
       "      <th>27</th>\n",
       "      <td>2018-11-28</td>\n",
       "      <td>0.516875</td>\n",
       "      <td>0.494712</td>\n",
       "      <td>0.538955</td>\n",
       "      <td>0.528237</td>\n",
       "      <td>2018-10-31</td>\n",
       "    </tr>\n",
       "    <tr>\n",
       "      <th>28</th>\n",
       "      <td>2018-11-29</td>\n",
       "      <td>0.516484</td>\n",
       "      <td>0.494865</td>\n",
       "      <td>0.539311</td>\n",
       "      <td>0.546807</td>\n",
       "      <td>2018-10-31</td>\n",
       "    </tr>\n",
       "    <tr>\n",
       "      <th>29</th>\n",
       "      <td>2018-11-30</td>\n",
       "      <td>0.511899</td>\n",
       "      <td>0.491534</td>\n",
       "      <td>0.535996</td>\n",
       "      <td>0.557368</td>\n",
       "      <td>2018-10-31</td>\n",
       "    </tr>\n",
       "  </tbody>\n",
       "</table>\n",
       "</div>"
      ],
      "text/plain": [
       "           ds      yhat  yhat_lower  yhat_upper         y     cutoff\n",
       "0  2018-11-01  0.515334    0.493828    0.537619  0.550425 2018-10-31\n",
       "1  2018-11-02  0.510750    0.486902    0.534559  0.556759 2018-10-31\n",
       "2  2018-11-03  0.498501    0.477243    0.521630  0.554842 2018-10-31\n",
       "3  2018-11-04  0.525201    0.503765    0.546864  0.553771 2018-10-31\n",
       "4  2018-11-05  0.522168    0.498998    0.544188  0.549769 2018-10-31\n",
       "5  2018-11-06  0.515947    0.494909    0.537910  0.552424 2018-10-31\n",
       "6  2018-11-07  0.516013    0.492431    0.537395  0.560004 2018-10-31\n",
       "7  2018-11-08  0.515622    0.492202    0.537026  0.571848 2018-10-31\n",
       "8  2018-11-09  0.511037    0.486559    0.535121  0.533991 2018-10-31\n",
       "9  2018-11-10  0.498788    0.475730    0.519839  0.546661 2018-10-31\n",
       "10 2018-11-11  0.525488    0.503554    0.547568  0.582234 2018-10-31\n",
       "11 2018-11-12  0.522456    0.499402    0.543551  0.571675 2018-10-31\n",
       "12 2018-11-13  0.516234    0.493902    0.538574  0.563653 2018-10-31\n",
       "13 2018-11-14  0.516301    0.494824    0.538108  0.599772 2018-10-31\n",
       "14 2018-11-15  0.515909    0.493570    0.538920  0.571142 2018-10-31\n",
       "15 2018-11-16  0.511324    0.488527    0.536024  0.563564 2018-10-31\n",
       "16 2018-11-17  0.499076    0.475237    0.521695  0.515920 2018-10-31\n",
       "17 2018-11-18  0.525775    0.502625    0.546973  0.550186 2018-10-31\n",
       "18 2018-11-19  0.522743    0.500499    0.546197  0.629669 2018-10-31\n",
       "19 2018-11-20  0.516521    0.494176    0.537981  0.573559 2018-10-31\n",
       "20 2018-11-21  0.516588    0.494351    0.537937  0.576311 2018-10-31\n",
       "21 2018-11-22  0.516196    0.494767    0.539054  0.556618 2018-10-31\n",
       "22 2018-11-23  0.511612    0.489027    0.534836  0.563609 2018-10-31\n",
       "23 2018-11-24  0.499363    0.476898    0.521886  0.554159 2018-10-31\n",
       "24 2018-11-25  0.526063    0.503671    0.548650  0.541785 2018-10-31\n",
       "25 2018-11-26  0.523030    0.499748    0.544587  0.510115 2018-10-31\n",
       "26 2018-11-27  0.516809    0.493144    0.537969  0.543049 2018-10-31\n",
       "27 2018-11-28  0.516875    0.494712    0.538955  0.528237 2018-10-31\n",
       "28 2018-11-29  0.516484    0.494865    0.539311  0.546807 2018-10-31\n",
       "29 2018-11-30  0.511899    0.491534    0.535996  0.557368 2018-10-31"
      ]
     },
     "execution_count": 67,
     "metadata": {},
     "output_type": "execute_result"
    }
   ],
   "source": [
    "df_cv.head(30)"
   ]
  },
  {
   "cell_type": "code",
   "execution_count": 68,
   "metadata": {},
   "outputs": [
    {
     "data": {
      "text/plain": [
       "30"
      ]
     },
     "execution_count": 68,
     "metadata": {},
     "output_type": "execute_result"
    }
   ],
   "source": [
    "len(df_cv)"
   ]
  },
  {
   "cell_type": "code",
   "execution_count": 71,
   "metadata": {},
   "outputs": [
    {
     "data": {
      "image/png": "[encoded data removed]",
      "text/plain": [
       "<Figure size 720x432 with 1 Axes>"
      ]
     },
     "metadata": {},
     "output_type": "display_data"
    }
   ],
   "source": [
    "plot_cross_validation_metric(df_cv, metric='rmse');"
   ]
  },
  {
   "cell_type": "code",
   "execution_count": 72,
   "metadata": {},
   "outputs": [
    {
     "data": {
      "image/png": "[encoded data removed]",
      "text/plain": [
       "<Figure size 720x432 with 1 Axes>"
      ]
     },
     "metadata": {},
     "output_type": "display_data"
    }
   ],
   "source": [
    "plot_cross_validation_metric(df_cv, metric='mape');"
   ]
  },
  {
   "cell_type": "code",
   "execution_count": null,
   "metadata": {},
   "outputs": [],
   "source": []
  }
 ],
 "metadata": {
  "kernelspec": {
   "display_name": "Python 3",
   "language": "python",
   "name": "python3"
  },
  "language_info": {
   "codemirror_mode": {
    "name": "ipython",
    "version": 3
   },
   "file_extension": ".py",
   "mimetype": "text/x-python",
   "name": "python",
   "nbconvert_exporter": "python",
   "pygments_lexer": "ipython3",
   "version": "3.6.10"
  }
 },
 "nbformat": 4,
 "nbformat_minor": 4
}
