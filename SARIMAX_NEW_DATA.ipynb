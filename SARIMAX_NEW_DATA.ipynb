{
 "cells": [
  {
   "cell_type": "code",
   "execution_count": 1,
   "metadata": {},
   "outputs": [
    {
     "name": "stderr",
     "output_type": "stream",
     "text": [
      "Using TensorFlow backend.\n"
     ]
    }
   ],
   "source": [
    "import numpy as np\n",
    "import pandas as pd\n",
    "import matplotlib.pyplot as plt\n",
    "import seaborn as sns\n",
    "import statsmodels.tsa.api as smt\n",
    "\n",
    "from statsmodels.tsa.seasonal import seasonal_decompose\n",
    "from statsmodels.tsa.statespace.sarimax import SARIMAX\n",
    "from statsmodels.tsa.arima_model import ARMA\n",
    "\n",
    "from sklearn.model_selection import train_test_split\n",
    "from keras.models import Sequential\n",
    "pd.pandas.set_option('display.max_columns', None)\n",
    "from pmdarima import auto_arima"
   ]
  },
  {
   "cell_type": "code",
   "execution_count": 2,
   "metadata": {},
   "outputs": [
    {
     "data": {
      "text/html": [
       "<div>\n",
       "<style scoped>\n",
       "    .dataframe tbody tr th:only-of-type {\n",
       "        vertical-align: middle;\n",
       "    }\n",
       "\n",
       "    .dataframe tbody tr th {\n",
       "        vertical-align: top;\n",
       "    }\n",
       "\n",
       "    .dataframe thead th {\n",
       "        text-align: right;\n",
       "    }\n",
       "</style>\n",
       "<table border=\"1\" class=\"dataframe\">\n",
       "  <thead>\n",
       "    <tr style=\"text-align: right;\">\n",
       "      <th></th>\n",
       "      <th>TIME</th>\n",
       "      <th>REGION_ID</th>\n",
       "      <th>SPEED</th>\n",
       "      <th>REGION</th>\n",
       "      <th>BUS_COUNT</th>\n",
       "      <th>NUM_READS</th>\n",
       "      <th>HOUR</th>\n",
       "      <th>DAY_OF_WEEK</th>\n",
       "      <th>MONTH</th>\n",
       "      <th>DESCRIPTION</th>\n",
       "      <th>RECORD_ID</th>\n",
       "      <th>WEST</th>\n",
       "      <th>EAST</th>\n",
       "      <th>SOUTH</th>\n",
       "      <th>NORTH</th>\n",
       "      <th>NW_LOCATION</th>\n",
       "      <th>SE_LOCATION</th>\n",
       "    </tr>\n",
       "  </thead>\n",
       "  <tbody>\n",
       "    <tr>\n",
       "      <th>0</th>\n",
       "      <td>06/14/2018 05:20:48 AM</td>\n",
       "      <td>7</td>\n",
       "      <td>23.18</td>\n",
       "      <td>Hermosa-Logan Square</td>\n",
       "      <td>26</td>\n",
       "      <td>372</td>\n",
       "      <td>5</td>\n",
       "      <td>5</td>\n",
       "      <td>6</td>\n",
       "      <td>North Ave to Diversy. Cicero to Ravenswood</td>\n",
       "      <td>07-201806141020</td>\n",
       "      <td>-87.747456</td>\n",
       "      <td>-87.674590</td>\n",
       "      <td>41.909269</td>\n",
       "      <td>41.931841</td>\n",
       "      <td>POINT (-87.747456 41.931841)</td>\n",
       "      <td>POINT (-87.67459 41.909269)</td>\n",
       "    </tr>\n",
       "    <tr>\n",
       "      <th>1</th>\n",
       "      <td>06/14/2018 05:20:48 AM</td>\n",
       "      <td>8</td>\n",
       "      <td>23.86</td>\n",
       "      <td>Lincoln Park-Lake View</td>\n",
       "      <td>34</td>\n",
       "      <td>534</td>\n",
       "      <td>5</td>\n",
       "      <td>5</td>\n",
       "      <td>6</td>\n",
       "      <td>North Ave to Montrose. Ravenswood to Lake Shore</td>\n",
       "      <td>08-201806141020</td>\n",
       "      <td>-87.674590</td>\n",
       "      <td>-87.619112</td>\n",
       "      <td>41.910561</td>\n",
       "      <td>41.960669</td>\n",
       "      <td>POINT (-87.67459 41.960669)</td>\n",
       "      <td>POINT (-87.619112 41.910561)</td>\n",
       "    </tr>\n",
       "    <tr>\n",
       "      <th>2</th>\n",
       "      <td>06/14/2018 05:20:48 AM</td>\n",
       "      <td>10</td>\n",
       "      <td>25.70</td>\n",
       "      <td>Humboldt-Garfield Prk E/W</td>\n",
       "      <td>48</td>\n",
       "      <td>684</td>\n",
       "      <td>5</td>\n",
       "      <td>5</td>\n",
       "      <td>6</td>\n",
       "      <td>Roosevelt to North Ave. Cicero to Rockwell</td>\n",
       "      <td>10-201806141020</td>\n",
       "      <td>-87.747456</td>\n",
       "      <td>-87.691617</td>\n",
       "      <td>41.866129</td>\n",
       "      <td>41.909269</td>\n",
       "      <td>POINT (-87.747456 41.909269)</td>\n",
       "      <td>POINT (-87.691617 41.866129)</td>\n",
       "    </tr>\n",
       "    <tr>\n",
       "      <th>3</th>\n",
       "      <td>06/14/2018 05:20:48 AM</td>\n",
       "      <td>12</td>\n",
       "      <td>24.61</td>\n",
       "      <td>Near North</td>\n",
       "      <td>15</td>\n",
       "      <td>210</td>\n",
       "      <td>5</td>\n",
       "      <td>5</td>\n",
       "      <td>6</td>\n",
       "      <td>Wacker to North. Halsted to  Michigan</td>\n",
       "      <td>12-201806141020</td>\n",
       "      <td>-87.647208</td>\n",
       "      <td>-87.623080</td>\n",
       "      <td>41.888860</td>\n",
       "      <td>41.911401</td>\n",
       "      <td>POINT (-87.647208 41.911401)</td>\n",
       "      <td>POINT (-87.62308 41.88886)</td>\n",
       "    </tr>\n",
       "    <tr>\n",
       "      <th>4</th>\n",
       "      <td>06/14/2018 05:20:48 AM</td>\n",
       "      <td>13</td>\n",
       "      <td>21.82</td>\n",
       "      <td>Chicago Loop</td>\n",
       "      <td>31</td>\n",
       "      <td>396</td>\n",
       "      <td>5</td>\n",
       "      <td>5</td>\n",
       "      <td>6</td>\n",
       "      <td>Roosevelt to Wacker: Halsted to Michigan</td>\n",
       "      <td>13-201806141020</td>\n",
       "      <td>-87.647208</td>\n",
       "      <td>-87.623080</td>\n",
       "      <td>41.866129</td>\n",
       "      <td>41.888860</td>\n",
       "      <td>POINT (-87.647208 41.88886)</td>\n",
       "      <td>POINT (-87.62308 41.866129)</td>\n",
       "    </tr>\n",
       "  </tbody>\n",
       "</table>\n",
       "</div>"
      ],
      "text/plain": [
       "                     TIME  REGION_ID  SPEED                     REGION  \\\n",
       "0  06/14/2018 05:20:48 AM          7  23.18       Hermosa-Logan Square   \n",
       "1  06/14/2018 05:20:48 AM          8  23.86     Lincoln Park-Lake View   \n",
       "2  06/14/2018 05:20:48 AM         10  25.70  Humboldt-Garfield Prk E/W   \n",
       "3  06/14/2018 05:20:48 AM         12  24.61                 Near North   \n",
       "4  06/14/2018 05:20:48 AM         13  21.82               Chicago Loop   \n",
       "\n",
       "   BUS_COUNT  NUM_READS  HOUR  DAY_OF_WEEK  MONTH  \\\n",
       "0         26        372     5            5      6   \n",
       "1         34        534     5            5      6   \n",
       "2         48        684     5            5      6   \n",
       "3         15        210     5            5      6   \n",
       "4         31        396     5            5      6   \n",
       "\n",
       "                                       DESCRIPTION        RECORD_ID  \\\n",
       "0       North Ave to Diversy. Cicero to Ravenswood  07-201806141020   \n",
       "1  North Ave to Montrose. Ravenswood to Lake Shore  08-201806141020   \n",
       "2       Roosevelt to North Ave. Cicero to Rockwell  10-201806141020   \n",
       "3            Wacker to North. Halsted to  Michigan  12-201806141020   \n",
       "4         Roosevelt to Wacker: Halsted to Michigan  13-201806141020   \n",
       "\n",
       "        WEST       EAST      SOUTH      NORTH                   NW_LOCATION  \\\n",
       "0 -87.747456 -87.674590  41.909269  41.931841  POINT (-87.747456 41.931841)   \n",
       "1 -87.674590 -87.619112  41.910561  41.960669   POINT (-87.67459 41.960669)   \n",
       "2 -87.747456 -87.691617  41.866129  41.909269  POINT (-87.747456 41.909269)   \n",
       "3 -87.647208 -87.623080  41.888860  41.911401  POINT (-87.647208 41.911401)   \n",
       "4 -87.647208 -87.623080  41.866129  41.888860   POINT (-87.647208 41.88886)   \n",
       "\n",
       "                    SE_LOCATION  \n",
       "0   POINT (-87.67459 41.909269)  \n",
       "1  POINT (-87.619112 41.910561)  \n",
       "2  POINT (-87.691617 41.866129)  \n",
       "3    POINT (-87.62308 41.88886)  \n",
       "4   POINT (-87.62308 41.866129)  "
      ]
     },
     "execution_count": 2,
     "metadata": {},
     "output_type": "execute_result"
    }
   ],
   "source": [
    "df = pd.read_csv('Chicago_Traffic_Tracker_Monthly.csv', parse_dates=True)\n",
    "df.head()"
   ]
  },
  {
   "cell_type": "code",
   "execution_count": 3,
   "metadata": {},
   "outputs": [
    {
     "data": {
      "text/plain": [
       "array(['Hermosa-Logan Square', 'Lincoln Park-Lake View',\n",
       "       'Humboldt-Garfield Prk E/W', 'Near North', 'Chicago Loop',\n",
       "       'Lawndale N/S', 'Bridgeport-McKinley-Lower West',\n",
       "       'South West Side', 'Hyde Park-Kenwood-Woodlawn', 'Ashburn',\n",
       "       'Auburn Gresham-Chatham', 'Beverly-Mt Greenwood-Morgan Park',\n",
       "       'Rogers Park - West Ridge', 'Far North West',\n",
       "       'North Park-Albany-Linconl Sq', 'Edge Water-Uptown',\n",
       "       'Dunning-Portage-Belmont Cragn', 'Austin',\n",
       "       'Midway-Garfield Rdg-Clearing', 'Irving Park-Avondale-North Ctr',\n",
       "       'West Town-Near West', 'Washington Hts-Roseland-Pullman',\n",
       "       'Downtown Lakefront', 'Riverdale-Hegewisch',\n",
       "       'New City-Englewood-W Englewood', 'South Deering-East Side',\n",
       "       'South Shore-S Chicago-Avlon', 'Fuller-Grand Blvd-Washington Park',\n",
       "       'Near South-Douglas'], dtype=object)"
      ]
     },
     "execution_count": 3,
     "metadata": {},
     "output_type": "execute_result"
    }
   ],
   "source": [
    "u_Region = df['REGION'].unique()\n",
    "u_Region"
   ]
  },
  {
   "cell_type": "code",
   "execution_count": 4,
   "metadata": {},
   "outputs": [
    {
     "data": {
      "text/html": [
       "<div>\n",
       "<style scoped>\n",
       "    .dataframe tbody tr th:only-of-type {\n",
       "        vertical-align: middle;\n",
       "    }\n",
       "\n",
       "    .dataframe tbody tr th {\n",
       "        vertical-align: top;\n",
       "    }\n",
       "\n",
       "    .dataframe thead th {\n",
       "        text-align: right;\n",
       "    }\n",
       "</style>\n",
       "<table border=\"1\" class=\"dataframe\">\n",
       "  <thead>\n",
       "    <tr style=\"text-align: right;\">\n",
       "      <th></th>\n",
       "      <th>TIME</th>\n",
       "      <th>REGION_ID</th>\n",
       "      <th>SPEED</th>\n",
       "      <th>REGION</th>\n",
       "      <th>BUS_COUNT</th>\n",
       "      <th>NUM_READS</th>\n",
       "      <th>HOUR</th>\n",
       "      <th>DAY_OF_WEEK</th>\n",
       "      <th>MONTH</th>\n",
       "      <th>DESCRIPTION</th>\n",
       "      <th>RECORD_ID</th>\n",
       "      <th>WEST</th>\n",
       "      <th>EAST</th>\n",
       "      <th>SOUTH</th>\n",
       "      <th>NORTH</th>\n",
       "      <th>NW_LOCATION</th>\n",
       "      <th>SE_LOCATION</th>\n",
       "    </tr>\n",
       "  </thead>\n",
       "  <tbody>\n",
       "    <tr>\n",
       "      <th>20</th>\n",
       "      <td>05/20/2018 08:10:33 AM</td>\n",
       "      <td>9</td>\n",
       "      <td>25.91</td>\n",
       "      <td>Austin</td>\n",
       "      <td>11</td>\n",
       "      <td>125</td>\n",
       "      <td>8</td>\n",
       "      <td>1</td>\n",
       "      <td>5</td>\n",
       "      <td>Roosevelt to North Ave. Austin to Cicero</td>\n",
       "      <td>09-201805201310</td>\n",
       "      <td>-87.775947</td>\n",
       "      <td>-87.747456</td>\n",
       "      <td>41.866129</td>\n",
       "      <td>41.909269</td>\n",
       "      <td>POINT (-87.775947 41.909269)</td>\n",
       "      <td>POINT (-87.747456 41.866129)</td>\n",
       "    </tr>\n",
       "    <tr>\n",
       "      <th>51</th>\n",
       "      <td>03/13/2018 09:40:38 AM</td>\n",
       "      <td>9</td>\n",
       "      <td>22.16</td>\n",
       "      <td>Austin</td>\n",
       "      <td>27</td>\n",
       "      <td>406</td>\n",
       "      <td>9</td>\n",
       "      <td>3</td>\n",
       "      <td>3</td>\n",
       "      <td>Roosevelt to North Ave. Austin to Cicero</td>\n",
       "      <td>09-201803131440</td>\n",
       "      <td>-87.775947</td>\n",
       "      <td>-87.747456</td>\n",
       "      <td>41.866129</td>\n",
       "      <td>41.909269</td>\n",
       "      <td>POINT (-87.775947 41.909269)</td>\n",
       "      <td>POINT (-87.747456 41.866129)</td>\n",
       "    </tr>\n",
       "    <tr>\n",
       "      <th>80</th>\n",
       "      <td>03/13/2018 06:31:33 PM</td>\n",
       "      <td>9</td>\n",
       "      <td>22.50</td>\n",
       "      <td>Austin</td>\n",
       "      <td>38</td>\n",
       "      <td>539</td>\n",
       "      <td>18</td>\n",
       "      <td>3</td>\n",
       "      <td>3</td>\n",
       "      <td>Roosevelt to North Ave. Austin to Cicero</td>\n",
       "      <td>09-201803132331</td>\n",
       "      <td>-87.775947</td>\n",
       "      <td>-87.747456</td>\n",
       "      <td>41.866129</td>\n",
       "      <td>41.909269</td>\n",
       "      <td>POINT (-87.775947 41.909269)</td>\n",
       "      <td>POINT (-87.747456 41.866129)</td>\n",
       "    </tr>\n",
       "    <tr>\n",
       "      <th>109</th>\n",
       "      <td>03/13/2018 09:50:55 AM</td>\n",
       "      <td>9</td>\n",
       "      <td>22.50</td>\n",
       "      <td>Austin</td>\n",
       "      <td>24</td>\n",
       "      <td>355</td>\n",
       "      <td>9</td>\n",
       "      <td>3</td>\n",
       "      <td>3</td>\n",
       "      <td>Roosevelt to North Ave. Austin to Cicero</td>\n",
       "      <td>09-201803131450</td>\n",
       "      <td>-87.775947</td>\n",
       "      <td>-87.747456</td>\n",
       "      <td>41.866129</td>\n",
       "      <td>41.909269</td>\n",
       "      <td>POINT (-87.775947 41.909269)</td>\n",
       "      <td>POINT (-87.747456 41.866129)</td>\n",
       "    </tr>\n",
       "    <tr>\n",
       "      <th>139</th>\n",
       "      <td>03/14/2018 04:10:21 AM</td>\n",
       "      <td>9</td>\n",
       "      <td>32.73</td>\n",
       "      <td>Austin</td>\n",
       "      <td>6</td>\n",
       "      <td>64</td>\n",
       "      <td>4</td>\n",
       "      <td>4</td>\n",
       "      <td>3</td>\n",
       "      <td>Roosevelt to North Ave. Austin to Cicero</td>\n",
       "      <td>09-201803140910</td>\n",
       "      <td>-87.775947</td>\n",
       "      <td>-87.747456</td>\n",
       "      <td>41.866129</td>\n",
       "      <td>41.909269</td>\n",
       "      <td>POINT (-87.775947 41.909269)</td>\n",
       "      <td>POINT (-87.747456 41.866129)</td>\n",
       "    </tr>\n",
       "  </tbody>\n",
       "</table>\n",
       "</div>"
      ],
      "text/plain": [
       "                       TIME  REGION_ID  SPEED  REGION  BUS_COUNT  NUM_READS  \\\n",
       "20   05/20/2018 08:10:33 AM          9  25.91  Austin         11        125   \n",
       "51   03/13/2018 09:40:38 AM          9  22.16  Austin         27        406   \n",
       "80   03/13/2018 06:31:33 PM          9  22.50  Austin         38        539   \n",
       "109  03/13/2018 09:50:55 AM          9  22.50  Austin         24        355   \n",
       "139  03/14/2018 04:10:21 AM          9  32.73  Austin          6         64   \n",
       "\n",
       "     HOUR  DAY_OF_WEEK  MONTH                               DESCRIPTION  \\\n",
       "20      8            1      5  Roosevelt to North Ave. Austin to Cicero   \n",
       "51      9            3      3  Roosevelt to North Ave. Austin to Cicero   \n",
       "80     18            3      3  Roosevelt to North Ave. Austin to Cicero   \n",
       "109     9            3      3  Roosevelt to North Ave. Austin to Cicero   \n",
       "139     4            4      3  Roosevelt to North Ave. Austin to Cicero   \n",
       "\n",
       "           RECORD_ID       WEST       EAST      SOUTH      NORTH  \\\n",
       "20   09-201805201310 -87.775947 -87.747456  41.866129  41.909269   \n",
       "51   09-201803131440 -87.775947 -87.747456  41.866129  41.909269   \n",
       "80   09-201803132331 -87.775947 -87.747456  41.866129  41.909269   \n",
       "109  09-201803131450 -87.775947 -87.747456  41.866129  41.909269   \n",
       "139  09-201803140910 -87.775947 -87.747456  41.866129  41.909269   \n",
       "\n",
       "                      NW_LOCATION                   SE_LOCATION  \n",
       "20   POINT (-87.775947 41.909269)  POINT (-87.747456 41.866129)  \n",
       "51   POINT (-87.775947 41.909269)  POINT (-87.747456 41.866129)  \n",
       "80   POINT (-87.775947 41.909269)  POINT (-87.747456 41.866129)  \n",
       "109  POINT (-87.775947 41.909269)  POINT (-87.747456 41.866129)  \n",
       "139  POINT (-87.775947 41.909269)  POINT (-87.747456 41.866129)  "
      ]
     },
     "execution_count": 4,
     "metadata": {},
     "output_type": "execute_result"
    }
   ],
   "source": [
    "df_Austin = df[df['REGION']=='Austin']\n",
    "df_Austin.head()"
   ]
  },
  {
   "cell_type": "code",
   "execution_count": 5,
   "metadata": {},
   "outputs": [
    {
     "data": {
      "text/plain": [
       "(101189, 17)"
      ]
     },
     "execution_count": 5,
     "metadata": {},
     "output_type": "execute_result"
    }
   ],
   "source": [
    "df_Austin.shape"
   ]
  },
  {
   "cell_type": "code",
   "execution_count": 6,
   "metadata": {},
   "outputs": [
    {
     "data": {
      "text/plain": [
       "87.99"
      ]
     },
     "execution_count": 6,
     "metadata": {},
     "output_type": "execute_result"
    }
   ],
   "source": [
    "df_Austin['SPEED'].max()"
   ]
  },
  {
   "cell_type": "code",
   "execution_count": 7,
   "metadata": {},
   "outputs": [
    {
     "data": {
      "text/plain": [
       "'12/31/2019 12:51:09 PM'"
      ]
     },
     "execution_count": 7,
     "metadata": {},
     "output_type": "execute_result"
    }
   ],
   "source": [
    "df_Austin['TIME'].max()"
   ]
  },
  {
   "cell_type": "code",
   "execution_count": 8,
   "metadata": {},
   "outputs": [
    {
     "data": {
      "text/plain": [
       "'01/01/2019 01:01:38 PM'"
      ]
     },
     "execution_count": 8,
     "metadata": {},
     "output_type": "execute_result"
    }
   ],
   "source": [
    "df_Austin['TIME'].min()"
   ]
  },
  {
   "cell_type": "code",
   "execution_count": 9,
   "metadata": {},
   "outputs": [
    {
     "data": {
      "text/html": [
       "<div>\n",
       "<style scoped>\n",
       "    .dataframe tbody tr th:only-of-type {\n",
       "        vertical-align: middle;\n",
       "    }\n",
       "\n",
       "    .dataframe tbody tr th {\n",
       "        vertical-align: top;\n",
       "    }\n",
       "\n",
       "    .dataframe thead th {\n",
       "        text-align: right;\n",
       "    }\n",
       "</style>\n",
       "<table border=\"1\" class=\"dataframe\">\n",
       "  <thead>\n",
       "    <tr style=\"text-align: right;\">\n",
       "      <th></th>\n",
       "      <th>TIME</th>\n",
       "      <th>REGION_ID</th>\n",
       "      <th>SPEED</th>\n",
       "      <th>REGION</th>\n",
       "      <th>BUS_COUNT</th>\n",
       "      <th>NUM_READS</th>\n",
       "      <th>HOUR</th>\n",
       "      <th>DAY_OF_WEEK</th>\n",
       "      <th>MONTH</th>\n",
       "      <th>DESCRIPTION</th>\n",
       "      <th>RECORD_ID</th>\n",
       "      <th>WEST</th>\n",
       "      <th>EAST</th>\n",
       "      <th>SOUTH</th>\n",
       "      <th>NORTH</th>\n",
       "      <th>NW_LOCATION</th>\n",
       "      <th>SE_LOCATION</th>\n",
       "    </tr>\n",
       "  </thead>\n",
       "  <tbody>\n",
       "    <tr>\n",
       "      <th>1238003</th>\n",
       "      <td>01/01/2019 01:01:38 PM</td>\n",
       "      <td>9</td>\n",
       "      <td>23.86</td>\n",
       "      <td>Austin</td>\n",
       "      <td>22</td>\n",
       "      <td>536</td>\n",
       "      <td>13</td>\n",
       "      <td>3</td>\n",
       "      <td>1</td>\n",
       "      <td>Roosevelt to North Ave. Austin to Cicero</td>\n",
       "      <td>09-201901011901</td>\n",
       "      <td>-87.775947</td>\n",
       "      <td>-87.747456</td>\n",
       "      <td>41.866129</td>\n",
       "      <td>41.909269</td>\n",
       "      <td>POINT (-87.775947 41.909269)</td>\n",
       "      <td>POINT (-87.747456 41.866129)</td>\n",
       "    </tr>\n",
       "    <tr>\n",
       "      <th>1233999</th>\n",
       "      <td>01/01/2019 01:10:27 AM</td>\n",
       "      <td>9</td>\n",
       "      <td>0.00</td>\n",
       "      <td>Austin</td>\n",
       "      <td>3</td>\n",
       "      <td>96</td>\n",
       "      <td>1</td>\n",
       "      <td>3</td>\n",
       "      <td>1</td>\n",
       "      <td>Roosevelt to North Ave. Austin to Cicero</td>\n",
       "      <td>09-201901010710</td>\n",
       "      <td>-87.775947</td>\n",
       "      <td>-87.747456</td>\n",
       "      <td>41.866129</td>\n",
       "      <td>41.909269</td>\n",
       "      <td>POINT (-87.775947 41.909269)</td>\n",
       "      <td>POINT (-87.747456 41.866129)</td>\n",
       "    </tr>\n",
       "    <tr>\n",
       "      <th>1238061</th>\n",
       "      <td>01/01/2019 01:10:48 PM</td>\n",
       "      <td>9</td>\n",
       "      <td>25.23</td>\n",
       "      <td>Austin</td>\n",
       "      <td>18</td>\n",
       "      <td>401</td>\n",
       "      <td>13</td>\n",
       "      <td>3</td>\n",
       "      <td>1</td>\n",
       "      <td>Roosevelt to North Ave. Austin to Cicero</td>\n",
       "      <td>09-201901011910</td>\n",
       "      <td>-87.775947</td>\n",
       "      <td>-87.747456</td>\n",
       "      <td>41.866129</td>\n",
       "      <td>41.909269</td>\n",
       "      <td>POINT (-87.775947 41.909269)</td>\n",
       "      <td>POINT (-87.747456 41.866129)</td>\n",
       "    </tr>\n",
       "    <tr>\n",
       "      <th>1234056</th>\n",
       "      <td>01/01/2019 01:21:00 AM</td>\n",
       "      <td>9</td>\n",
       "      <td>0.00</td>\n",
       "      <td>Austin</td>\n",
       "      <td>1</td>\n",
       "      <td>7</td>\n",
       "      <td>1</td>\n",
       "      <td>3</td>\n",
       "      <td>1</td>\n",
       "      <td>Roosevelt to North Ave. Austin to Cicero</td>\n",
       "      <td>09-201901010721</td>\n",
       "      <td>-87.775947</td>\n",
       "      <td>-87.747456</td>\n",
       "      <td>41.866129</td>\n",
       "      <td>41.909269</td>\n",
       "      <td>POINT (-87.775947 41.909269)</td>\n",
       "      <td>POINT (-87.747456 41.866129)</td>\n",
       "    </tr>\n",
       "    <tr>\n",
       "      <th>1238131</th>\n",
       "      <td>01/01/2019 01:21:06 PM</td>\n",
       "      <td>9</td>\n",
       "      <td>26.59</td>\n",
       "      <td>Austin</td>\n",
       "      <td>19</td>\n",
       "      <td>446</td>\n",
       "      <td>13</td>\n",
       "      <td>3</td>\n",
       "      <td>1</td>\n",
       "      <td>Roosevelt to North Ave. Austin to Cicero</td>\n",
       "      <td>09-201901011921</td>\n",
       "      <td>-87.775947</td>\n",
       "      <td>-87.747456</td>\n",
       "      <td>41.866129</td>\n",
       "      <td>41.909269</td>\n",
       "      <td>POINT (-87.775947 41.909269)</td>\n",
       "      <td>POINT (-87.747456 41.866129)</td>\n",
       "    </tr>\n",
       "  </tbody>\n",
       "</table>\n",
       "</div>"
      ],
      "text/plain": [
       "                           TIME  REGION_ID  SPEED  REGION  BUS_COUNT  \\\n",
       "1238003  01/01/2019 01:01:38 PM          9  23.86  Austin         22   \n",
       "1233999  01/01/2019 01:10:27 AM          9   0.00  Austin          3   \n",
       "1238061  01/01/2019 01:10:48 PM          9  25.23  Austin         18   \n",
       "1234056  01/01/2019 01:21:00 AM          9   0.00  Austin          1   \n",
       "1238131  01/01/2019 01:21:06 PM          9  26.59  Austin         19   \n",
       "\n",
       "         NUM_READS  HOUR  DAY_OF_WEEK  MONTH  \\\n",
       "1238003        536    13            3      1   \n",
       "1233999         96     1            3      1   \n",
       "1238061        401    13            3      1   \n",
       "1234056          7     1            3      1   \n",
       "1238131        446    13            3      1   \n",
       "\n",
       "                                      DESCRIPTION        RECORD_ID       WEST  \\\n",
       "1238003  Roosevelt to North Ave. Austin to Cicero  09-201901011901 -87.775947   \n",
       "1233999  Roosevelt to North Ave. Austin to Cicero  09-201901010710 -87.775947   \n",
       "1238061  Roosevelt to North Ave. Austin to Cicero  09-201901011910 -87.775947   \n",
       "1234056  Roosevelt to North Ave. Austin to Cicero  09-201901010721 -87.775947   \n",
       "1238131  Roosevelt to North Ave. Austin to Cicero  09-201901011921 -87.775947   \n",
       "\n",
       "              EAST      SOUTH      NORTH                   NW_LOCATION  \\\n",
       "1238003 -87.747456  41.866129  41.909269  POINT (-87.775947 41.909269)   \n",
       "1233999 -87.747456  41.866129  41.909269  POINT (-87.775947 41.909269)   \n",
       "1238061 -87.747456  41.866129  41.909269  POINT (-87.775947 41.909269)   \n",
       "1234056 -87.747456  41.866129  41.909269  POINT (-87.775947 41.909269)   \n",
       "1238131 -87.747456  41.866129  41.909269  POINT (-87.775947 41.909269)   \n",
       "\n",
       "                          SE_LOCATION  \n",
       "1238003  POINT (-87.747456 41.866129)  \n",
       "1233999  POINT (-87.747456 41.866129)  \n",
       "1238061  POINT (-87.747456 41.866129)  \n",
       "1234056  POINT (-87.747456 41.866129)  \n",
       "1238131  POINT (-87.747456 41.866129)  "
      ]
     },
     "execution_count": 9,
     "metadata": {},
     "output_type": "execute_result"
    }
   ],
   "source": [
    "df_Austin=df_Austin.sort_values(by='TIME')\n",
    "df_Austin.head()"
   ]
  },
  {
   "cell_type": "code",
   "execution_count": 10,
   "metadata": {},
   "outputs": [
    {
     "data": {
      "text/plain": [
       "(101189, 17)"
      ]
     },
     "execution_count": 10,
     "metadata": {},
     "output_type": "execute_result"
    }
   ],
   "source": [
    "df_Austin.shape"
   ]
  },
  {
   "cell_type": "code",
   "execution_count": 11,
   "metadata": {},
   "outputs": [
    {
     "data": {
      "text/plain": [
       "(2934457, 17)"
      ]
     },
     "execution_count": 11,
     "metadata": {},
     "output_type": "execute_result"
    }
   ],
   "source": [
    "df.shape"
   ]
  },
  {
   "cell_type": "code",
   "execution_count": 12,
   "metadata": {},
   "outputs": [
    {
     "data": {
      "text/html": [
       "<div>\n",
       "<style scoped>\n",
       "    .dataframe tbody tr th:only-of-type {\n",
       "        vertical-align: middle;\n",
       "    }\n",
       "\n",
       "    .dataframe tbody tr th {\n",
       "        vertical-align: top;\n",
       "    }\n",
       "\n",
       "    .dataframe thead th {\n",
       "        text-align: right;\n",
       "    }\n",
       "</style>\n",
       "<table border=\"1\" class=\"dataframe\">\n",
       "  <thead>\n",
       "    <tr style=\"text-align: right;\">\n",
       "      <th></th>\n",
       "      <th>REGION_ID</th>\n",
       "      <th>SPEED</th>\n",
       "      <th>BUS_COUNT</th>\n",
       "      <th>NUM_READS</th>\n",
       "      <th>HOUR</th>\n",
       "      <th>DAY_OF_WEEK</th>\n",
       "      <th>MONTH</th>\n",
       "      <th>WEST</th>\n",
       "      <th>EAST</th>\n",
       "      <th>SOUTH</th>\n",
       "      <th>NORTH</th>\n",
       "    </tr>\n",
       "  </thead>\n",
       "  <tbody>\n",
       "    <tr>\n",
       "      <th>count</th>\n",
       "      <td>101189.0</td>\n",
       "      <td>101189.000000</td>\n",
       "      <td>101189.000000</td>\n",
       "      <td>101189.000000</td>\n",
       "      <td>101189.000000</td>\n",
       "      <td>101189.000000</td>\n",
       "      <td>101189.000000</td>\n",
       "      <td>1.011890e+05</td>\n",
       "      <td>1.011890e+05</td>\n",
       "      <td>101189.000000</td>\n",
       "      <td>1.011890e+05</td>\n",
       "    </tr>\n",
       "    <tr>\n",
       "      <th>mean</th>\n",
       "      <td>9.0</td>\n",
       "      <td>21.984348</td>\n",
       "      <td>19.667286</td>\n",
       "      <td>377.245175</td>\n",
       "      <td>11.513168</td>\n",
       "      <td>4.022918</td>\n",
       "      <td>6.311101</td>\n",
       "      <td>-8.777595e+01</td>\n",
       "      <td>-8.774746e+01</td>\n",
       "      <td>41.866129</td>\n",
       "      <td>4.190927e+01</td>\n",
       "    </tr>\n",
       "    <tr>\n",
       "      <th>std</th>\n",
       "      <td>0.0</td>\n",
       "      <td>8.606143</td>\n",
       "      <td>11.166828</td>\n",
       "      <td>234.356560</td>\n",
       "      <td>6.914494</td>\n",
       "      <td>1.986494</td>\n",
       "      <td>3.396017</td>\n",
       "      <td>1.421092e-14</td>\n",
       "      <td>4.263277e-14</td>\n",
       "      <td>0.000000</td>\n",
       "      <td>7.105462e-15</td>\n",
       "    </tr>\n",
       "    <tr>\n",
       "      <th>min</th>\n",
       "      <td>9.0</td>\n",
       "      <td>0.000000</td>\n",
       "      <td>0.000000</td>\n",
       "      <td>0.000000</td>\n",
       "      <td>0.000000</td>\n",
       "      <td>1.000000</td>\n",
       "      <td>1.000000</td>\n",
       "      <td>-8.777595e+01</td>\n",
       "      <td>-8.774746e+01</td>\n",
       "      <td>41.866129</td>\n",
       "      <td>4.190927e+01</td>\n",
       "    </tr>\n",
       "    <tr>\n",
       "      <th>25%</th>\n",
       "      <td>9.0</td>\n",
       "      <td>22.500000</td>\n",
       "      <td>11.000000</td>\n",
       "      <td>209.000000</td>\n",
       "      <td>6.000000</td>\n",
       "      <td>2.000000</td>\n",
       "      <td>3.000000</td>\n",
       "      <td>-8.777595e+01</td>\n",
       "      <td>-8.774746e+01</td>\n",
       "      <td>41.866129</td>\n",
       "      <td>4.190927e+01</td>\n",
       "    </tr>\n",
       "    <tr>\n",
       "      <th>50%</th>\n",
       "      <td>9.0</td>\n",
       "      <td>24.550000</td>\n",
       "      <td>20.000000</td>\n",
       "      <td>358.000000</td>\n",
       "      <td>12.000000</td>\n",
       "      <td>4.000000</td>\n",
       "      <td>6.000000</td>\n",
       "      <td>-8.777595e+01</td>\n",
       "      <td>-8.774746e+01</td>\n",
       "      <td>41.866129</td>\n",
       "      <td>4.190927e+01</td>\n",
       "    </tr>\n",
       "    <tr>\n",
       "      <th>75%</th>\n",
       "      <td>9.0</td>\n",
       "      <td>25.910000</td>\n",
       "      <td>28.000000</td>\n",
       "      <td>537.000000</td>\n",
       "      <td>17.000000</td>\n",
       "      <td>6.000000</td>\n",
       "      <td>9.000000</td>\n",
       "      <td>-8.777595e+01</td>\n",
       "      <td>-8.774746e+01</td>\n",
       "      <td>41.866129</td>\n",
       "      <td>4.190927e+01</td>\n",
       "    </tr>\n",
       "    <tr>\n",
       "      <th>max</th>\n",
       "      <td>9.0</td>\n",
       "      <td>87.990000</td>\n",
       "      <td>50.000000</td>\n",
       "      <td>2713.000000</td>\n",
       "      <td>23.000000</td>\n",
       "      <td>7.000000</td>\n",
       "      <td>12.000000</td>\n",
       "      <td>-8.777595e+01</td>\n",
       "      <td>-8.774746e+01</td>\n",
       "      <td>41.866129</td>\n",
       "      <td>4.190927e+01</td>\n",
       "    </tr>\n",
       "  </tbody>\n",
       "</table>\n",
       "</div>"
      ],
      "text/plain": [
       "       REGION_ID          SPEED      BUS_COUNT      NUM_READS           HOUR  \\\n",
       "count   101189.0  101189.000000  101189.000000  101189.000000  101189.000000   \n",
       "mean         9.0      21.984348      19.667286     377.245175      11.513168   \n",
       "std          0.0       8.606143      11.166828     234.356560       6.914494   \n",
       "min          9.0       0.000000       0.000000       0.000000       0.000000   \n",
       "25%          9.0      22.500000      11.000000     209.000000       6.000000   \n",
       "50%          9.0      24.550000      20.000000     358.000000      12.000000   \n",
       "75%          9.0      25.910000      28.000000     537.000000      17.000000   \n",
       "max          9.0      87.990000      50.000000    2713.000000      23.000000   \n",
       "\n",
       "         DAY_OF_WEEK          MONTH          WEST          EAST  \\\n",
       "count  101189.000000  101189.000000  1.011890e+05  1.011890e+05   \n",
       "mean        4.022918       6.311101 -8.777595e+01 -8.774746e+01   \n",
       "std         1.986494       3.396017  1.421092e-14  4.263277e-14   \n",
       "min         1.000000       1.000000 -8.777595e+01 -8.774746e+01   \n",
       "25%         2.000000       3.000000 -8.777595e+01 -8.774746e+01   \n",
       "50%         4.000000       6.000000 -8.777595e+01 -8.774746e+01   \n",
       "75%         6.000000       9.000000 -8.777595e+01 -8.774746e+01   \n",
       "max         7.000000      12.000000 -8.777595e+01 -8.774746e+01   \n",
       "\n",
       "               SOUTH         NORTH  \n",
       "count  101189.000000  1.011890e+05  \n",
       "mean       41.866129  4.190927e+01  \n",
       "std         0.000000  7.105462e-15  \n",
       "min        41.866129  4.190927e+01  \n",
       "25%        41.866129  4.190927e+01  \n",
       "50%        41.866129  4.190927e+01  \n",
       "75%        41.866129  4.190927e+01  \n",
       "max        41.866129  4.190927e+01  "
      ]
     },
     "execution_count": 12,
     "metadata": {},
     "output_type": "execute_result"
    }
   ],
   "source": [
    "df_Austin.describe()"
   ]
  },
  {
   "cell_type": "code",
   "execution_count": 13,
   "metadata": {},
   "outputs": [
    {
     "data": {
      "text/plain": [
       "101189"
      ]
     },
     "execution_count": 13,
     "metadata": {},
     "output_type": "execute_result"
    }
   ],
   "source": [
    "df_Austin['SPEED'].isnull().count()"
   ]
  },
  {
   "cell_type": "code",
   "execution_count": 14,
   "metadata": {},
   "outputs": [],
   "source": [
    "df_Austin['TIME'] = df_Austin['TIME'].astype('datetime64[ns]')"
   ]
  },
  {
   "cell_type": "code",
   "execution_count": 15,
   "metadata": {},
   "outputs": [],
   "source": [
    "df_Austin=df_Austin.sort_values(by='TIME')\n"
   ]
  },
  {
   "cell_type": "code",
   "execution_count": 16,
   "metadata": {},
   "outputs": [
    {
     "data": {
      "text/html": [
       "<div>\n",
       "<style scoped>\n",
       "    .dataframe tbody tr th:only-of-type {\n",
       "        vertical-align: middle;\n",
       "    }\n",
       "\n",
       "    .dataframe tbody tr th {\n",
       "        vertical-align: top;\n",
       "    }\n",
       "\n",
       "    .dataframe thead th {\n",
       "        text-align: right;\n",
       "    }\n",
       "</style>\n",
       "<table border=\"1\" class=\"dataframe\">\n",
       "  <thead>\n",
       "    <tr style=\"text-align: right;\">\n",
       "      <th></th>\n",
       "      <th>TIME</th>\n",
       "      <th>REGION_ID</th>\n",
       "      <th>SPEED</th>\n",
       "      <th>REGION</th>\n",
       "      <th>BUS_COUNT</th>\n",
       "      <th>NUM_READS</th>\n",
       "      <th>HOUR</th>\n",
       "      <th>DAY_OF_WEEK</th>\n",
       "      <th>MONTH</th>\n",
       "      <th>DESCRIPTION</th>\n",
       "      <th>RECORD_ID</th>\n",
       "      <th>WEST</th>\n",
       "      <th>EAST</th>\n",
       "      <th>SOUTH</th>\n",
       "      <th>NORTH</th>\n",
       "      <th>NW_LOCATION</th>\n",
       "      <th>SE_LOCATION</th>\n",
       "    </tr>\n",
       "  </thead>\n",
       "  <tbody>\n",
       "    <tr>\n",
       "      <th>20379</th>\n",
       "      <td>2018-03-09 15:40:41</td>\n",
       "      <td>9</td>\n",
       "      <td>19.77</td>\n",
       "      <td>Austin</td>\n",
       "      <td>34</td>\n",
       "      <td>572</td>\n",
       "      <td>15</td>\n",
       "      <td>6</td>\n",
       "      <td>3</td>\n",
       "      <td>Roosevelt to North Ave. Austin to Cicero</td>\n",
       "      <td>09-201803092140</td>\n",
       "      <td>-87.775947</td>\n",
       "      <td>-87.747456</td>\n",
       "      <td>41.866129</td>\n",
       "      <td>41.909269</td>\n",
       "      <td>POINT (-87.775947 41.909269)</td>\n",
       "      <td>POINT (-87.747456 41.866129)</td>\n",
       "    </tr>\n",
       "    <tr>\n",
       "      <th>23699</th>\n",
       "      <td>2018-03-09 15:50:56</td>\n",
       "      <td>9</td>\n",
       "      <td>19.09</td>\n",
       "      <td>Austin</td>\n",
       "      <td>33</td>\n",
       "      <td>501</td>\n",
       "      <td>15</td>\n",
       "      <td>6</td>\n",
       "      <td>3</td>\n",
       "      <td>Roosevelt to North Ave. Austin to Cicero</td>\n",
       "      <td>09-201803092150</td>\n",
       "      <td>-87.775947</td>\n",
       "      <td>-87.747456</td>\n",
       "      <td>41.866129</td>\n",
       "      <td>41.909269</td>\n",
       "      <td>POINT (-87.775947 41.909269)</td>\n",
       "      <td>POINT (-87.747456 41.866129)</td>\n",
       "    </tr>\n",
       "    <tr>\n",
       "      <th>19206</th>\n",
       "      <td>2018-03-09 16:01:45</td>\n",
       "      <td>9</td>\n",
       "      <td>20.45</td>\n",
       "      <td>Austin</td>\n",
       "      <td>38</td>\n",
       "      <td>592</td>\n",
       "      <td>16</td>\n",
       "      <td>6</td>\n",
       "      <td>3</td>\n",
       "      <td>Roosevelt to North Ave. Austin to Cicero</td>\n",
       "      <td>09-201803092201</td>\n",
       "      <td>-87.775947</td>\n",
       "      <td>-87.747456</td>\n",
       "      <td>41.866129</td>\n",
       "      <td>41.909269</td>\n",
       "      <td>POINT (-87.775947 41.909269)</td>\n",
       "      <td>POINT (-87.747456 41.866129)</td>\n",
       "    </tr>\n",
       "    <tr>\n",
       "      <th>16402</th>\n",
       "      <td>2018-03-09 16:10:55</td>\n",
       "      <td>9</td>\n",
       "      <td>19.09</td>\n",
       "      <td>Austin</td>\n",
       "      <td>36</td>\n",
       "      <td>570</td>\n",
       "      <td>16</td>\n",
       "      <td>6</td>\n",
       "      <td>3</td>\n",
       "      <td>Roosevelt to North Ave. Austin to Cicero</td>\n",
       "      <td>09-201803092210</td>\n",
       "      <td>-87.775947</td>\n",
       "      <td>-87.747456</td>\n",
       "      <td>41.866129</td>\n",
       "      <td>41.909269</td>\n",
       "      <td>POINT (-87.775947 41.909269)</td>\n",
       "      <td>POINT (-87.747456 41.866129)</td>\n",
       "    </tr>\n",
       "    <tr>\n",
       "      <th>26395</th>\n",
       "      <td>2018-03-09 16:21:17</td>\n",
       "      <td>9</td>\n",
       "      <td>20.45</td>\n",
       "      <td>Austin</td>\n",
       "      <td>34</td>\n",
       "      <td>549</td>\n",
       "      <td>16</td>\n",
       "      <td>6</td>\n",
       "      <td>3</td>\n",
       "      <td>Roosevelt to North Ave. Austin to Cicero</td>\n",
       "      <td>09-201803092221</td>\n",
       "      <td>-87.775947</td>\n",
       "      <td>-87.747456</td>\n",
       "      <td>41.866129</td>\n",
       "      <td>41.909269</td>\n",
       "      <td>POINT (-87.775947 41.909269)</td>\n",
       "      <td>POINT (-87.747456 41.866129)</td>\n",
       "    </tr>\n",
       "  </tbody>\n",
       "</table>\n",
       "</div>"
      ],
      "text/plain": [
       "                     TIME  REGION_ID  SPEED  REGION  BUS_COUNT  NUM_READS  \\\n",
       "20379 2018-03-09 15:40:41          9  19.77  Austin         34        572   \n",
       "23699 2018-03-09 15:50:56          9  19.09  Austin         33        501   \n",
       "19206 2018-03-09 16:01:45          9  20.45  Austin         38        592   \n",
       "16402 2018-03-09 16:10:55          9  19.09  Austin         36        570   \n",
       "26395 2018-03-09 16:21:17          9  20.45  Austin         34        549   \n",
       "\n",
       "       HOUR  DAY_OF_WEEK  MONTH                               DESCRIPTION  \\\n",
       "20379    15            6      3  Roosevelt to North Ave. Austin to Cicero   \n",
       "23699    15            6      3  Roosevelt to North Ave. Austin to Cicero   \n",
       "19206    16            6      3  Roosevelt to North Ave. Austin to Cicero   \n",
       "16402    16            6      3  Roosevelt to North Ave. Austin to Cicero   \n",
       "26395    16            6      3  Roosevelt to North Ave. Austin to Cicero   \n",
       "\n",
       "             RECORD_ID       WEST       EAST      SOUTH      NORTH  \\\n",
       "20379  09-201803092140 -87.775947 -87.747456  41.866129  41.909269   \n",
       "23699  09-201803092150 -87.775947 -87.747456  41.866129  41.909269   \n",
       "19206  09-201803092201 -87.775947 -87.747456  41.866129  41.909269   \n",
       "16402  09-201803092210 -87.775947 -87.747456  41.866129  41.909269   \n",
       "26395  09-201803092221 -87.775947 -87.747456  41.866129  41.909269   \n",
       "\n",
       "                        NW_LOCATION                   SE_LOCATION  \n",
       "20379  POINT (-87.775947 41.909269)  POINT (-87.747456 41.866129)  \n",
       "23699  POINT (-87.775947 41.909269)  POINT (-87.747456 41.866129)  \n",
       "19206  POINT (-87.775947 41.909269)  POINT (-87.747456 41.866129)  \n",
       "16402  POINT (-87.775947 41.909269)  POINT (-87.747456 41.866129)  \n",
       "26395  POINT (-87.775947 41.909269)  POINT (-87.747456 41.866129)  "
      ]
     },
     "execution_count": 16,
     "metadata": {},
     "output_type": "execute_result"
    }
   ],
   "source": [
    "df_Austin.head()"
   ]
  },
  {
   "cell_type": "code",
   "execution_count": 17,
   "metadata": {},
   "outputs": [
    {
     "data": {
      "text/html": [
       "<div>\n",
       "<style scoped>\n",
       "    .dataframe tbody tr th:only-of-type {\n",
       "        vertical-align: middle;\n",
       "    }\n",
       "\n",
       "    .dataframe tbody tr th {\n",
       "        vertical-align: top;\n",
       "    }\n",
       "\n",
       "    .dataframe thead th {\n",
       "        text-align: right;\n",
       "    }\n",
       "</style>\n",
       "<table border=\"1\" class=\"dataframe\">\n",
       "  <thead>\n",
       "    <tr style=\"text-align: right;\">\n",
       "      <th></th>\n",
       "      <th>TIME</th>\n",
       "      <th>REGION_ID</th>\n",
       "      <th>SPEED</th>\n",
       "      <th>REGION</th>\n",
       "      <th>BUS_COUNT</th>\n",
       "      <th>NUM_READS</th>\n",
       "      <th>HOUR</th>\n",
       "      <th>DAY_OF_WEEK</th>\n",
       "      <th>MONTH</th>\n",
       "      <th>DESCRIPTION</th>\n",
       "      <th>RECORD_ID</th>\n",
       "      <th>WEST</th>\n",
       "      <th>EAST</th>\n",
       "      <th>SOUTH</th>\n",
       "      <th>NORTH</th>\n",
       "      <th>NW_LOCATION</th>\n",
       "      <th>SE_LOCATION</th>\n",
       "    </tr>\n",
       "  </thead>\n",
       "  <tbody>\n",
       "    <tr>\n",
       "      <th>2912905</th>\n",
       "      <td>2020-04-10 13:51:01</td>\n",
       "      <td>9</td>\n",
       "      <td>25.91</td>\n",
       "      <td>Austin</td>\n",
       "      <td>31</td>\n",
       "      <td>553</td>\n",
       "      <td>13</td>\n",
       "      <td>6</td>\n",
       "      <td>4</td>\n",
       "      <td>Roosevelt to North Ave. Austin to Cicero</td>\n",
       "      <td>09-202004101851</td>\n",
       "      <td>-87.775947</td>\n",
       "      <td>-87.747456</td>\n",
       "      <td>41.866129</td>\n",
       "      <td>41.909269</td>\n",
       "      <td>POINT (-87.775947 41.909269)</td>\n",
       "      <td>POINT (-87.747456 41.866129)</td>\n",
       "    </tr>\n",
       "    <tr>\n",
       "      <th>2912960</th>\n",
       "      <td>2020-04-10 14:01:48</td>\n",
       "      <td>9</td>\n",
       "      <td>25.23</td>\n",
       "      <td>Austin</td>\n",
       "      <td>33</td>\n",
       "      <td>660</td>\n",
       "      <td>14</td>\n",
       "      <td>6</td>\n",
       "      <td>4</td>\n",
       "      <td>Roosevelt to North Ave. Austin to Cicero</td>\n",
       "      <td>09-202004101901</td>\n",
       "      <td>-87.775947</td>\n",
       "      <td>-87.747456</td>\n",
       "      <td>41.866129</td>\n",
       "      <td>41.909269</td>\n",
       "      <td>POINT (-87.775947 41.909269)</td>\n",
       "      <td>POINT (-87.747456 41.866129)</td>\n",
       "    </tr>\n",
       "    <tr>\n",
       "      <th>2913022</th>\n",
       "      <td>2020-04-10 14:11:00</td>\n",
       "      <td>9</td>\n",
       "      <td>25.23</td>\n",
       "      <td>Austin</td>\n",
       "      <td>29</td>\n",
       "      <td>681</td>\n",
       "      <td>14</td>\n",
       "      <td>6</td>\n",
       "      <td>4</td>\n",
       "      <td>Roosevelt to North Ave. Austin to Cicero</td>\n",
       "      <td>09-202004101911</td>\n",
       "      <td>-87.775947</td>\n",
       "      <td>-87.747456</td>\n",
       "      <td>41.866129</td>\n",
       "      <td>41.909269</td>\n",
       "      <td>POINT (-87.775947 41.909269)</td>\n",
       "      <td>POINT (-87.747456 41.866129)</td>\n",
       "    </tr>\n",
       "    <tr>\n",
       "      <th>2913102</th>\n",
       "      <td>2020-04-10 14:21:21</td>\n",
       "      <td>9</td>\n",
       "      <td>25.16</td>\n",
       "      <td>Austin</td>\n",
       "      <td>25</td>\n",
       "      <td>522</td>\n",
       "      <td>14</td>\n",
       "      <td>6</td>\n",
       "      <td>4</td>\n",
       "      <td>Roosevelt to North Ave. Austin to Cicero</td>\n",
       "      <td>09-202004101921</td>\n",
       "      <td>-87.775947</td>\n",
       "      <td>-87.747456</td>\n",
       "      <td>41.866129</td>\n",
       "      <td>41.909269</td>\n",
       "      <td>POINT (-87.775947 41.909269)</td>\n",
       "      <td>POINT (-87.747456 41.866129)</td>\n",
       "    </tr>\n",
       "    <tr>\n",
       "      <th>2913160</th>\n",
       "      <td>2020-04-10 14:31:35</td>\n",
       "      <td>9</td>\n",
       "      <td>25.23</td>\n",
       "      <td>Austin</td>\n",
       "      <td>29</td>\n",
       "      <td>694</td>\n",
       "      <td>14</td>\n",
       "      <td>6</td>\n",
       "      <td>4</td>\n",
       "      <td>Roosevelt to North Ave. Austin to Cicero</td>\n",
       "      <td>09-202004101931</td>\n",
       "      <td>-87.775947</td>\n",
       "      <td>-87.747456</td>\n",
       "      <td>41.866129</td>\n",
       "      <td>41.909269</td>\n",
       "      <td>POINT (-87.775947 41.909269)</td>\n",
       "      <td>POINT (-87.747456 41.866129)</td>\n",
       "    </tr>\n",
       "  </tbody>\n",
       "</table>\n",
       "</div>"
      ],
      "text/plain": [
       "                       TIME  REGION_ID  SPEED  REGION  BUS_COUNT  NUM_READS  \\\n",
       "2912905 2020-04-10 13:51:01          9  25.91  Austin         31        553   \n",
       "2912960 2020-04-10 14:01:48          9  25.23  Austin         33        660   \n",
       "2913022 2020-04-10 14:11:00          9  25.23  Austin         29        681   \n",
       "2913102 2020-04-10 14:21:21          9  25.16  Austin         25        522   \n",
       "2913160 2020-04-10 14:31:35          9  25.23  Austin         29        694   \n",
       "\n",
       "         HOUR  DAY_OF_WEEK  MONTH                               DESCRIPTION  \\\n",
       "2912905    13            6      4  Roosevelt to North Ave. Austin to Cicero   \n",
       "2912960    14            6      4  Roosevelt to North Ave. Austin to Cicero   \n",
       "2913022    14            6      4  Roosevelt to North Ave. Austin to Cicero   \n",
       "2913102    14            6      4  Roosevelt to North Ave. Austin to Cicero   \n",
       "2913160    14            6      4  Roosevelt to North Ave. Austin to Cicero   \n",
       "\n",
       "               RECORD_ID       WEST       EAST      SOUTH      NORTH  \\\n",
       "2912905  09-202004101851 -87.775947 -87.747456  41.866129  41.909269   \n",
       "2912960  09-202004101901 -87.775947 -87.747456  41.866129  41.909269   \n",
       "2913022  09-202004101911 -87.775947 -87.747456  41.866129  41.909269   \n",
       "2913102  09-202004101921 -87.775947 -87.747456  41.866129  41.909269   \n",
       "2913160  09-202004101931 -87.775947 -87.747456  41.866129  41.909269   \n",
       "\n",
       "                          NW_LOCATION                   SE_LOCATION  \n",
       "2912905  POINT (-87.775947 41.909269)  POINT (-87.747456 41.866129)  \n",
       "2912960  POINT (-87.775947 41.909269)  POINT (-87.747456 41.866129)  \n",
       "2913022  POINT (-87.775947 41.909269)  POINT (-87.747456 41.866129)  \n",
       "2913102  POINT (-87.775947 41.909269)  POINT (-87.747456 41.866129)  \n",
       "2913160  POINT (-87.775947 41.909269)  POINT (-87.747456 41.866129)  "
      ]
     },
     "execution_count": 17,
     "metadata": {},
     "output_type": "execute_result"
    }
   ],
   "source": [
    "df_Austin.tail()"
   ]
  },
  {
   "cell_type": "code",
   "execution_count": 18,
   "metadata": {},
   "outputs": [],
   "source": [
    "start= pd.Timestamp(\"2018-03-09 15:40:41\")\n",
    "end = pd.Timestamp(\"2020-4-10 14-31-35\")"
   ]
  },
  {
   "cell_type": "code",
   "execution_count": 19,
   "metadata": {},
   "outputs": [],
   "source": [
    "df_Austin_con = df_Austin[['TIME','SPEED','BUS_COUNT','NUM_READS']]"
   ]
  },
  {
   "cell_type": "code",
   "execution_count": 20,
   "metadata": {},
   "outputs": [
    {
     "data": {
      "text/plain": [
       "(101189, 4)"
      ]
     },
     "execution_count": 20,
     "metadata": {},
     "output_type": "execute_result"
    }
   ],
   "source": [
    "df_Austin_con.shape"
   ]
  },
  {
   "cell_type": "code",
   "execution_count": 21,
   "metadata": {},
   "outputs": [
    {
     "name": "stderr",
     "output_type": "stream",
     "text": [
      "C:\\Users\\mosto\\Anaconda3\\envs\\RTX-GPU\\lib\\site-packages\\ipykernel_launcher.py:2: SettingWithCopyWarning: \n",
      "A value is trying to be set on a copy of a slice from a DataFrame.\n",
      "Try using .loc[row_indexer,col_indexer] = value instead\n",
      "\n",
      "See the caveats in the documentation: https://pandas.pydata.org/pandas-docs/stable/user_guide/indexing.html#returning-a-view-versus-a-copy\n",
      "  \n"
     ]
    }
   ],
   "source": [
    "# df_Austin_con['CONG']= df_Austin_con[df_Austin_con['SPEED']/40]\n",
    "df_Austin_con['CONG'] = df_Austin_con['SPEED'].map(lambda x: float(x/40))"
   ]
  },
  {
   "cell_type": "code",
   "execution_count": 22,
   "metadata": {},
   "outputs": [
    {
     "data": {
      "text/html": [
       "<div>\n",
       "<style scoped>\n",
       "    .dataframe tbody tr th:only-of-type {\n",
       "        vertical-align: middle;\n",
       "    }\n",
       "\n",
       "    .dataframe tbody tr th {\n",
       "        vertical-align: top;\n",
       "    }\n",
       "\n",
       "    .dataframe thead th {\n",
       "        text-align: right;\n",
       "    }\n",
       "</style>\n",
       "<table border=\"1\" class=\"dataframe\">\n",
       "  <thead>\n",
       "    <tr style=\"text-align: right;\">\n",
       "      <th></th>\n",
       "      <th>TIME</th>\n",
       "      <th>SPEED</th>\n",
       "      <th>BUS_COUNT</th>\n",
       "      <th>NUM_READS</th>\n",
       "      <th>CONG</th>\n",
       "    </tr>\n",
       "  </thead>\n",
       "  <tbody>\n",
       "    <tr>\n",
       "      <th>20379</th>\n",
       "      <td>2018-03-09 15:40:41</td>\n",
       "      <td>19.77</td>\n",
       "      <td>34</td>\n",
       "      <td>572</td>\n",
       "      <td>0.49425</td>\n",
       "    </tr>\n",
       "    <tr>\n",
       "      <th>23699</th>\n",
       "      <td>2018-03-09 15:50:56</td>\n",
       "      <td>19.09</td>\n",
       "      <td>33</td>\n",
       "      <td>501</td>\n",
       "      <td>0.47725</td>\n",
       "    </tr>\n",
       "    <tr>\n",
       "      <th>19206</th>\n",
       "      <td>2018-03-09 16:01:45</td>\n",
       "      <td>20.45</td>\n",
       "      <td>38</td>\n",
       "      <td>592</td>\n",
       "      <td>0.51125</td>\n",
       "    </tr>\n",
       "    <tr>\n",
       "      <th>16402</th>\n",
       "      <td>2018-03-09 16:10:55</td>\n",
       "      <td>19.09</td>\n",
       "      <td>36</td>\n",
       "      <td>570</td>\n",
       "      <td>0.47725</td>\n",
       "    </tr>\n",
       "    <tr>\n",
       "      <th>26395</th>\n",
       "      <td>2018-03-09 16:21:17</td>\n",
       "      <td>20.45</td>\n",
       "      <td>34</td>\n",
       "      <td>549</td>\n",
       "      <td>0.51125</td>\n",
       "    </tr>\n",
       "  </tbody>\n",
       "</table>\n",
       "</div>"
      ],
      "text/plain": [
       "                     TIME  SPEED  BUS_COUNT  NUM_READS     CONG\n",
       "20379 2018-03-09 15:40:41  19.77         34        572  0.49425\n",
       "23699 2018-03-09 15:50:56  19.09         33        501  0.47725\n",
       "19206 2018-03-09 16:01:45  20.45         38        592  0.51125\n",
       "16402 2018-03-09 16:10:55  19.09         36        570  0.47725\n",
       "26395 2018-03-09 16:21:17  20.45         34        549  0.51125"
      ]
     },
     "execution_count": 22,
     "metadata": {},
     "output_type": "execute_result"
    }
   ],
   "source": [
    "df_Austin_con.head()"
   ]
  },
  {
   "cell_type": "code",
   "execution_count": 23,
   "metadata": {},
   "outputs": [
    {
     "data": {
      "text/plain": [
       "(101189, 5)"
      ]
     },
     "execution_count": 23,
     "metadata": {},
     "output_type": "execute_result"
    }
   ],
   "source": [
    "df_Austin_con.shape"
   ]
  },
  {
   "cell_type": "code",
   "execution_count": 24,
   "metadata": {},
   "outputs": [
    {
     "data": {
      "text/plain": [
       "(101189, 2)"
      ]
     },
     "execution_count": 24,
     "metadata": {},
     "output_type": "execute_result"
    }
   ],
   "source": [
    "df_Aus_Cong= df_Austin_con[['TIME','CONG']]\n",
    "df_Aus_Cong.shape"
   ]
  },
  {
   "cell_type": "code",
   "execution_count": 25,
   "metadata": {},
   "outputs": [
    {
     "data": {
      "text/html": [
       "<div>\n",
       "<style scoped>\n",
       "    .dataframe tbody tr th:only-of-type {\n",
       "        vertical-align: middle;\n",
       "    }\n",
       "\n",
       "    .dataframe tbody tr th {\n",
       "        vertical-align: top;\n",
       "    }\n",
       "\n",
       "    .dataframe thead th {\n",
       "        text-align: right;\n",
       "    }\n",
       "</style>\n",
       "<table border=\"1\" class=\"dataframe\">\n",
       "  <thead>\n",
       "    <tr style=\"text-align: right;\">\n",
       "      <th></th>\n",
       "      <th>TIME</th>\n",
       "      <th>CONG</th>\n",
       "    </tr>\n",
       "  </thead>\n",
       "  <tbody>\n",
       "    <tr>\n",
       "      <th>20379</th>\n",
       "      <td>2018-03-09 15:40:41</td>\n",
       "      <td>0.49425</td>\n",
       "    </tr>\n",
       "    <tr>\n",
       "      <th>23699</th>\n",
       "      <td>2018-03-09 15:50:56</td>\n",
       "      <td>0.47725</td>\n",
       "    </tr>\n",
       "    <tr>\n",
       "      <th>19206</th>\n",
       "      <td>2018-03-09 16:01:45</td>\n",
       "      <td>0.51125</td>\n",
       "    </tr>\n",
       "    <tr>\n",
       "      <th>16402</th>\n",
       "      <td>2018-03-09 16:10:55</td>\n",
       "      <td>0.47725</td>\n",
       "    </tr>\n",
       "    <tr>\n",
       "      <th>26395</th>\n",
       "      <td>2018-03-09 16:21:17</td>\n",
       "      <td>0.51125</td>\n",
       "    </tr>\n",
       "  </tbody>\n",
       "</table>\n",
       "</div>"
      ],
      "text/plain": [
       "                     TIME     CONG\n",
       "20379 2018-03-09 15:40:41  0.49425\n",
       "23699 2018-03-09 15:50:56  0.47725\n",
       "19206 2018-03-09 16:01:45  0.51125\n",
       "16402 2018-03-09 16:10:55  0.47725\n",
       "26395 2018-03-09 16:21:17  0.51125"
      ]
     },
     "execution_count": 25,
     "metadata": {},
     "output_type": "execute_result"
    }
   ],
   "source": [
    "df_Aus_Cong.head(5)"
   ]
  },
  {
   "cell_type": "code",
   "execution_count": null,
   "metadata": {},
   "outputs": [],
   "source": []
  },
  {
   "cell_type": "code",
   "execution_count": 26,
   "metadata": {},
   "outputs": [],
   "source": [
    "df_Aus_Cong = df_Aus_Cong[(df_Aus_Cong['TIME']>='2018-03-10 00:10:28') & (df_Aus_Cong['TIME']<'2020-04-10  00:01:29') ]"
   ]
  },
  {
   "cell_type": "code",
   "execution_count": 27,
   "metadata": {},
   "outputs": [
    {
     "data": {
      "text/html": [
       "<div>\n",
       "<style scoped>\n",
       "    .dataframe tbody tr th:only-of-type {\n",
       "        vertical-align: middle;\n",
       "    }\n",
       "\n",
       "    .dataframe tbody tr th {\n",
       "        vertical-align: top;\n",
       "    }\n",
       "\n",
       "    .dataframe thead th {\n",
       "        text-align: right;\n",
       "    }\n",
       "</style>\n",
       "<table border=\"1\" class=\"dataframe\">\n",
       "  <thead>\n",
       "    <tr style=\"text-align: right;\">\n",
       "      <th></th>\n",
       "      <th>TIME</th>\n",
       "      <th>CONG</th>\n",
       "    </tr>\n",
       "  </thead>\n",
       "  <tbody>\n",
       "    <tr>\n",
       "      <th>20431</th>\n",
       "      <td>2018-03-10 00:10:28</td>\n",
       "      <td>0.00000</td>\n",
       "    </tr>\n",
       "    <tr>\n",
       "      <th>26595</th>\n",
       "      <td>2018-03-10 00:20:44</td>\n",
       "      <td>0.68175</td>\n",
       "    </tr>\n",
       "    <tr>\n",
       "      <th>14079</th>\n",
       "      <td>2018-03-10 00:40:13</td>\n",
       "      <td>0.73300</td>\n",
       "    </tr>\n",
       "    <tr>\n",
       "      <th>17632</th>\n",
       "      <td>2018-03-10 00:50:27</td>\n",
       "      <td>0.00000</td>\n",
       "    </tr>\n",
       "    <tr>\n",
       "      <th>21260</th>\n",
       "      <td>2018-03-10 01:10:24</td>\n",
       "      <td>0.00000</td>\n",
       "    </tr>\n",
       "  </tbody>\n",
       "</table>\n",
       "</div>"
      ],
      "text/plain": [
       "                     TIME     CONG\n",
       "20431 2018-03-10 00:10:28  0.00000\n",
       "26595 2018-03-10 00:20:44  0.68175\n",
       "14079 2018-03-10 00:40:13  0.73300\n",
       "17632 2018-03-10 00:50:27  0.00000\n",
       "21260 2018-03-10 01:10:24  0.00000"
      ]
     },
     "execution_count": 27,
     "metadata": {},
     "output_type": "execute_result"
    }
   ],
   "source": [
    "df_Aus_Cong.head(5)"
   ]
  },
  {
   "cell_type": "code",
   "execution_count": 28,
   "metadata": {},
   "outputs": [
    {
     "data": {
      "text/html": [
       "<div>\n",
       "<style scoped>\n",
       "    .dataframe tbody tr th:only-of-type {\n",
       "        vertical-align: middle;\n",
       "    }\n",
       "\n",
       "    .dataframe tbody tr th {\n",
       "        vertical-align: top;\n",
       "    }\n",
       "\n",
       "    .dataframe thead th {\n",
       "        text-align: right;\n",
       "    }\n",
       "</style>\n",
       "<table border=\"1\" class=\"dataframe\">\n",
       "  <thead>\n",
       "    <tr style=\"text-align: right;\">\n",
       "      <th></th>\n",
       "      <th>TIME</th>\n",
       "      <th>CONG</th>\n",
       "    </tr>\n",
       "  </thead>\n",
       "  <tbody>\n",
       "    <tr>\n",
       "      <th>2906103</th>\n",
       "      <td>2020-04-09 23:01:33</td>\n",
       "      <td>0.66475</td>\n",
       "    </tr>\n",
       "    <tr>\n",
       "      <th>2906181</th>\n",
       "      <td>2020-04-09 23:10:50</td>\n",
       "      <td>0.68175</td>\n",
       "    </tr>\n",
       "    <tr>\n",
       "      <th>2906254</th>\n",
       "      <td>2020-04-09 23:21:08</td>\n",
       "      <td>0.71600</td>\n",
       "    </tr>\n",
       "    <tr>\n",
       "      <th>2906306</th>\n",
       "      <td>2020-04-09 23:31:25</td>\n",
       "      <td>0.78400</td>\n",
       "    </tr>\n",
       "    <tr>\n",
       "      <th>2906364</th>\n",
       "      <td>2020-04-09 23:40:21</td>\n",
       "      <td>0.71600</td>\n",
       "    </tr>\n",
       "    <tr>\n",
       "      <th>2906451</th>\n",
       "      <td>2020-04-09 23:50:40</td>\n",
       "      <td>0.69875</td>\n",
       "    </tr>\n",
       "  </tbody>\n",
       "</table>\n",
       "</div>"
      ],
      "text/plain": [
       "                       TIME     CONG\n",
       "2906103 2020-04-09 23:01:33  0.66475\n",
       "2906181 2020-04-09 23:10:50  0.68175\n",
       "2906254 2020-04-09 23:21:08  0.71600\n",
       "2906306 2020-04-09 23:31:25  0.78400\n",
       "2906364 2020-04-09 23:40:21  0.71600\n",
       "2906451 2020-04-09 23:50:40  0.69875"
      ]
     },
     "execution_count": 28,
     "metadata": {},
     "output_type": "execute_result"
    }
   ],
   "source": [
    "df_Aus_Cong.tail(6)"
   ]
  },
  {
   "cell_type": "code",
   "execution_count": 29,
   "metadata": {},
   "outputs": [],
   "source": [
    "df_Aus_Cong.set_index('TIME',inplace=True)"
   ]
  },
  {
   "cell_type": "code",
   "execution_count": 30,
   "metadata": {},
   "outputs": [
    {
     "data": {
      "text/html": [
       "<div>\n",
       "<style scoped>\n",
       "    .dataframe tbody tr th:only-of-type {\n",
       "        vertical-align: middle;\n",
       "    }\n",
       "\n",
       "    .dataframe tbody tr th {\n",
       "        vertical-align: top;\n",
       "    }\n",
       "\n",
       "    .dataframe thead th {\n",
       "        text-align: right;\n",
       "    }\n",
       "</style>\n",
       "<table border=\"1\" class=\"dataframe\">\n",
       "  <thead>\n",
       "    <tr style=\"text-align: right;\">\n",
       "      <th></th>\n",
       "      <th>CONG</th>\n",
       "    </tr>\n",
       "    <tr>\n",
       "      <th>TIME</th>\n",
       "      <th></th>\n",
       "    </tr>\n",
       "  </thead>\n",
       "  <tbody>\n",
       "    <tr>\n",
       "      <th>2018-03-10 00:10:28</th>\n",
       "      <td>0.00000</td>\n",
       "    </tr>\n",
       "    <tr>\n",
       "      <th>2018-03-10 00:20:44</th>\n",
       "      <td>0.68175</td>\n",
       "    </tr>\n",
       "    <tr>\n",
       "      <th>2018-03-10 00:40:13</th>\n",
       "      <td>0.73300</td>\n",
       "    </tr>\n",
       "    <tr>\n",
       "      <th>2018-03-10 00:50:27</th>\n",
       "      <td>0.00000</td>\n",
       "    </tr>\n",
       "    <tr>\n",
       "      <th>2018-03-10 01:10:24</th>\n",
       "      <td>0.00000</td>\n",
       "    </tr>\n",
       "  </tbody>\n",
       "</table>\n",
       "</div>"
      ],
      "text/plain": [
       "                        CONG\n",
       "TIME                        \n",
       "2018-03-10 00:10:28  0.00000\n",
       "2018-03-10 00:20:44  0.68175\n",
       "2018-03-10 00:40:13  0.73300\n",
       "2018-03-10 00:50:27  0.00000\n",
       "2018-03-10 01:10:24  0.00000"
      ]
     },
     "execution_count": 30,
     "metadata": {},
     "output_type": "execute_result"
    }
   ],
   "source": [
    "df_Aus_Cong.head()"
   ]
  },
  {
   "cell_type": "code",
   "execution_count": 31,
   "metadata": {},
   "outputs": [
    {
     "data": {
      "text/html": [
       "<div>\n",
       "<style scoped>\n",
       "    .dataframe tbody tr th:only-of-type {\n",
       "        vertical-align: middle;\n",
       "    }\n",
       "\n",
       "    .dataframe tbody tr th {\n",
       "        vertical-align: top;\n",
       "    }\n",
       "\n",
       "    .dataframe thead th {\n",
       "        text-align: right;\n",
       "    }\n",
       "</style>\n",
       "<table border=\"1\" class=\"dataframe\">\n",
       "  <thead>\n",
       "    <tr style=\"text-align: right;\">\n",
       "      <th></th>\n",
       "      <th>CONG</th>\n",
       "    </tr>\n",
       "    <tr>\n",
       "      <th>TIME</th>\n",
       "      <th></th>\n",
       "    </tr>\n",
       "  </thead>\n",
       "  <tbody>\n",
       "    <tr>\n",
       "      <th>2018-03-10</th>\n",
       "      <td>0.486151</td>\n",
       "    </tr>\n",
       "    <tr>\n",
       "      <th>2018-03-11</th>\n",
       "      <td>0.531629</td>\n",
       "    </tr>\n",
       "    <tr>\n",
       "      <th>2018-03-12</th>\n",
       "      <td>0.524233</td>\n",
       "    </tr>\n",
       "    <tr>\n",
       "      <th>2018-03-13</th>\n",
       "      <td>0.516991</td>\n",
       "    </tr>\n",
       "    <tr>\n",
       "      <th>2018-03-14</th>\n",
       "      <td>0.515276</td>\n",
       "    </tr>\n",
       "  </tbody>\n",
       "</table>\n",
       "</div>"
      ],
      "text/plain": [
       "                CONG\n",
       "TIME                \n",
       "2018-03-10  0.486151\n",
       "2018-03-11  0.531629\n",
       "2018-03-12  0.524233\n",
       "2018-03-13  0.516991\n",
       "2018-03-14  0.515276"
      ]
     },
     "execution_count": 31,
     "metadata": {},
     "output_type": "execute_result"
    }
   ],
   "source": [
    "output = df_Aus_Cong.resample('D').mean()\n",
    "output.head()"
   ]
  },
  {
   "cell_type": "code",
   "execution_count": 32,
   "metadata": {},
   "outputs": [
    {
     "data": {
      "text/plain": [
       "(114, 5)"
      ]
     },
     "execution_count": 32,
     "metadata": {},
     "output_type": "execute_result"
    }
   ],
   "source": [
    "day = df_Austin_con[(df_Austin_con['TIME']>='2018-03-10 00:10:28') & (df_Austin_con['TIME']<='2018-03-11 00:10:20') ]\n",
    "day.shape"
   ]
  },
  {
   "cell_type": "code",
   "execution_count": 33,
   "metadata": {},
   "outputs": [
    {
     "data": {
      "text/html": [
       "<div>\n",
       "<style scoped>\n",
       "    .dataframe tbody tr th:only-of-type {\n",
       "        vertical-align: middle;\n",
       "    }\n",
       "\n",
       "    .dataframe tbody tr th {\n",
       "        vertical-align: top;\n",
       "    }\n",
       "\n",
       "    .dataframe thead th {\n",
       "        text-align: right;\n",
       "    }\n",
       "</style>\n",
       "<table border=\"1\" class=\"dataframe\">\n",
       "  <thead>\n",
       "    <tr style=\"text-align: right;\">\n",
       "      <th></th>\n",
       "      <th>TIME</th>\n",
       "      <th>SPEED</th>\n",
       "      <th>BUS_COUNT</th>\n",
       "      <th>NUM_READS</th>\n",
       "      <th>CONG</th>\n",
       "    </tr>\n",
       "  </thead>\n",
       "  <tbody>\n",
       "    <tr>\n",
       "      <th>20431</th>\n",
       "      <td>2018-03-10 00:10:28</td>\n",
       "      <td>0.00</td>\n",
       "      <td>3</td>\n",
       "      <td>51</td>\n",
       "      <td>0.00000</td>\n",
       "    </tr>\n",
       "    <tr>\n",
       "      <th>26595</th>\n",
       "      <td>2018-03-10 00:20:44</td>\n",
       "      <td>27.27</td>\n",
       "      <td>10</td>\n",
       "      <td>189</td>\n",
       "      <td>0.68175</td>\n",
       "    </tr>\n",
       "    <tr>\n",
       "      <th>14079</th>\n",
       "      <td>2018-03-10 00:40:13</td>\n",
       "      <td>29.32</td>\n",
       "      <td>7</td>\n",
       "      <td>109</td>\n",
       "      <td>0.73300</td>\n",
       "    </tr>\n",
       "    <tr>\n",
       "      <th>17632</th>\n",
       "      <td>2018-03-10 00:50:27</td>\n",
       "      <td>0.00</td>\n",
       "      <td>4</td>\n",
       "      <td>46</td>\n",
       "      <td>0.00000</td>\n",
       "    </tr>\n",
       "    <tr>\n",
       "      <th>21260</th>\n",
       "      <td>2018-03-10 01:10:24</td>\n",
       "      <td>0.00</td>\n",
       "      <td>2</td>\n",
       "      <td>24</td>\n",
       "      <td>0.00000</td>\n",
       "    </tr>\n",
       "  </tbody>\n",
       "</table>\n",
       "</div>"
      ],
      "text/plain": [
       "                     TIME  SPEED  BUS_COUNT  NUM_READS     CONG\n",
       "20431 2018-03-10 00:10:28   0.00          3         51  0.00000\n",
       "26595 2018-03-10 00:20:44  27.27         10        189  0.68175\n",
       "14079 2018-03-10 00:40:13  29.32          7        109  0.73300\n",
       "17632 2018-03-10 00:50:27   0.00          4         46  0.00000\n",
       "21260 2018-03-10 01:10:24   0.00          2         24  0.00000"
      ]
     },
     "execution_count": 33,
     "metadata": {},
     "output_type": "execute_result"
    }
   ],
   "source": [
    "day.head()"
   ]
  },
  {
   "cell_type": "code",
   "execution_count": 34,
   "metadata": {},
   "outputs": [
    {
     "data": {
      "text/html": [
       "<div>\n",
       "<style scoped>\n",
       "    .dataframe tbody tr th:only-of-type {\n",
       "        vertical-align: middle;\n",
       "    }\n",
       "\n",
       "    .dataframe tbody tr th {\n",
       "        vertical-align: top;\n",
       "    }\n",
       "\n",
       "    .dataframe thead th {\n",
       "        text-align: right;\n",
       "    }\n",
       "</style>\n",
       "<table border=\"1\" class=\"dataframe\">\n",
       "  <thead>\n",
       "    <tr style=\"text-align: right;\">\n",
       "      <th></th>\n",
       "      <th>TIME</th>\n",
       "      <th>SPEED</th>\n",
       "      <th>BUS_COUNT</th>\n",
       "      <th>NUM_READS</th>\n",
       "      <th>CONG</th>\n",
       "    </tr>\n",
       "  </thead>\n",
       "  <tbody>\n",
       "    <tr>\n",
       "      <th>19425</th>\n",
       "      <td>2018-03-10 23:10:30</td>\n",
       "      <td>26.59</td>\n",
       "      <td>12</td>\n",
       "      <td>197</td>\n",
       "      <td>0.66475</td>\n",
       "    </tr>\n",
       "    <tr>\n",
       "      <th>22788</th>\n",
       "      <td>2018-03-10 23:20:48</td>\n",
       "      <td>24.55</td>\n",
       "      <td>10</td>\n",
       "      <td>152</td>\n",
       "      <td>0.61375</td>\n",
       "    </tr>\n",
       "    <tr>\n",
       "      <th>18702</th>\n",
       "      <td>2018-03-10 23:31:03</td>\n",
       "      <td>28.84</td>\n",
       "      <td>8</td>\n",
       "      <td>95</td>\n",
       "      <td>0.72100</td>\n",
       "    </tr>\n",
       "    <tr>\n",
       "      <th>16337</th>\n",
       "      <td>2018-03-10 23:40:14</td>\n",
       "      <td>24.55</td>\n",
       "      <td>10</td>\n",
       "      <td>136</td>\n",
       "      <td>0.61375</td>\n",
       "    </tr>\n",
       "    <tr>\n",
       "      <th>26779</th>\n",
       "      <td>2018-03-10 23:50:29</td>\n",
       "      <td>24.55</td>\n",
       "      <td>9</td>\n",
       "      <td>120</td>\n",
       "      <td>0.61375</td>\n",
       "    </tr>\n",
       "  </tbody>\n",
       "</table>\n",
       "</div>"
      ],
      "text/plain": [
       "                     TIME  SPEED  BUS_COUNT  NUM_READS     CONG\n",
       "19425 2018-03-10 23:10:30  26.59         12        197  0.66475\n",
       "22788 2018-03-10 23:20:48  24.55         10        152  0.61375\n",
       "18702 2018-03-10 23:31:03  28.84          8         95  0.72100\n",
       "16337 2018-03-10 23:40:14  24.55         10        136  0.61375\n",
       "26779 2018-03-10 23:50:29  24.55          9        120  0.61375"
      ]
     },
     "execution_count": 34,
     "metadata": {},
     "output_type": "execute_result"
    }
   ],
   "source": [
    "day.tail()"
   ]
  },
  {
   "cell_type": "code",
   "execution_count": 35,
   "metadata": {},
   "outputs": [],
   "source": [
    "s=day['CONG'].sum()"
   ]
  },
  {
   "cell_type": "code",
   "execution_count": 36,
   "metadata": {},
   "outputs": [
    {
     "data": {
      "text/plain": [
       "0.48615131578947374"
      ]
     },
     "execution_count": 36,
     "metadata": {},
     "output_type": "execute_result"
    }
   ],
   "source": [
    "s/114"
   ]
  },
  {
   "cell_type": "code",
   "execution_count": 37,
   "metadata": {},
   "outputs": [
    {
     "data": {
      "text/plain": [
       "(762, 1)"
      ]
     },
     "execution_count": 37,
     "metadata": {},
     "output_type": "execute_result"
    }
   ],
   "source": [
    "output.shape"
   ]
  },
  {
   "cell_type": "code",
   "execution_count": 38,
   "metadata": {},
   "outputs": [],
   "source": [
    "# df_nan= pd.DataFrame(output).set_index('CONG')"
   ]
  },
  {
   "cell_type": "code",
   "execution_count": 39,
   "metadata": {},
   "outputs": [],
   "source": [
    "df1 = output[output.isna().any(axis=1)]"
   ]
  },
  {
   "cell_type": "code",
   "execution_count": 40,
   "metadata": {},
   "outputs": [
    {
     "data": {
      "text/plain": [
       "(11, 1)"
      ]
     },
     "execution_count": 40,
     "metadata": {},
     "output_type": "execute_result"
    }
   ],
   "source": [
    "df1.shape"
   ]
  },
  {
   "cell_type": "code",
   "execution_count": 41,
   "metadata": {},
   "outputs": [
    {
     "data": {
      "text/html": [
       "<div>\n",
       "<style scoped>\n",
       "    .dataframe tbody tr th:only-of-type {\n",
       "        vertical-align: middle;\n",
       "    }\n",
       "\n",
       "    .dataframe tbody tr th {\n",
       "        vertical-align: top;\n",
       "    }\n",
       "\n",
       "    .dataframe thead th {\n",
       "        text-align: right;\n",
       "    }\n",
       "</style>\n",
       "<table border=\"1\" class=\"dataframe\">\n",
       "  <thead>\n",
       "    <tr style=\"text-align: right;\">\n",
       "      <th></th>\n",
       "      <th>CONG</th>\n",
       "    </tr>\n",
       "    <tr>\n",
       "      <th>TIME</th>\n",
       "      <th></th>\n",
       "    </tr>\n",
       "  </thead>\n",
       "  <tbody>\n",
       "    <tr>\n",
       "      <th>2018-04-15</th>\n",
       "      <td>NaN</td>\n",
       "    </tr>\n",
       "    <tr>\n",
       "      <th>2018-08-12</th>\n",
       "      <td>NaN</td>\n",
       "    </tr>\n",
       "    <tr>\n",
       "      <th>2018-11-18</th>\n",
       "      <td>NaN</td>\n",
       "    </tr>\n",
       "    <tr>\n",
       "      <th>2019-01-12</th>\n",
       "      <td>NaN</td>\n",
       "    </tr>\n",
       "    <tr>\n",
       "      <th>2019-01-13</th>\n",
       "      <td>NaN</td>\n",
       "    </tr>\n",
       "    <tr>\n",
       "      <th>2019-11-11</th>\n",
       "      <td>NaN</td>\n",
       "    </tr>\n",
       "    <tr>\n",
       "      <th>2019-12-13</th>\n",
       "      <td>NaN</td>\n",
       "    </tr>\n",
       "    <tr>\n",
       "      <th>2019-12-14</th>\n",
       "      <td>NaN</td>\n",
       "    </tr>\n",
       "    <tr>\n",
       "      <th>2019-12-15</th>\n",
       "      <td>NaN</td>\n",
       "    </tr>\n",
       "    <tr>\n",
       "      <th>2019-12-18</th>\n",
       "      <td>NaN</td>\n",
       "    </tr>\n",
       "    <tr>\n",
       "      <th>2019-12-19</th>\n",
       "      <td>NaN</td>\n",
       "    </tr>\n",
       "  </tbody>\n",
       "</table>\n",
       "</div>"
      ],
      "text/plain": [
       "            CONG\n",
       "TIME            \n",
       "2018-04-15   NaN\n",
       "2018-08-12   NaN\n",
       "2018-11-18   NaN\n",
       "2019-01-12   NaN\n",
       "2019-01-13   NaN\n",
       "2019-11-11   NaN\n",
       "2019-12-13   NaN\n",
       "2019-12-14   NaN\n",
       "2019-12-15   NaN\n",
       "2019-12-18   NaN\n",
       "2019-12-19   NaN"
      ]
     },
     "execution_count": 41,
     "metadata": {},
     "output_type": "execute_result"
    }
   ],
   "source": [
    "df1"
   ]
  },
  {
   "cell_type": "code",
   "execution_count": 42,
   "metadata": {},
   "outputs": [],
   "source": [
    "# output.groupby([output.index.day]).transform(lambda x: x.fillna(x.mean()))\n",
    "# output.fillna(output.mean(axis=0))"
   ]
  },
  {
   "cell_type": "code",
   "execution_count": 43,
   "metadata": {},
   "outputs": [
    {
     "data": {
      "text/plain": [
       "[None]"
      ]
     },
     "execution_count": 43,
     "metadata": {},
     "output_type": "execute_result"
    }
   ],
   "source": [
    "[output['CONG'].fillna(output['CONG'].mean(), inplace=True) for col in output.columns]"
   ]
  },
  {
   "cell_type": "code",
   "execution_count": null,
   "metadata": {},
   "outputs": [],
   "source": []
  },
  {
   "cell_type": "code",
   "execution_count": 44,
   "metadata": {},
   "outputs": [
    {
     "data": {
      "text/html": [
       "<div>\n",
       "<style scoped>\n",
       "    .dataframe tbody tr th:only-of-type {\n",
       "        vertical-align: middle;\n",
       "    }\n",
       "\n",
       "    .dataframe tbody tr th {\n",
       "        vertical-align: top;\n",
       "    }\n",
       "\n",
       "    .dataframe thead th {\n",
       "        text-align: right;\n",
       "    }\n",
       "</style>\n",
       "<table border=\"1\" class=\"dataframe\">\n",
       "  <thead>\n",
       "    <tr style=\"text-align: right;\">\n",
       "      <th></th>\n",
       "      <th>CONG</th>\n",
       "    </tr>\n",
       "    <tr>\n",
       "      <th>TIME</th>\n",
       "      <th></th>\n",
       "    </tr>\n",
       "  </thead>\n",
       "  <tbody>\n",
       "  </tbody>\n",
       "</table>\n",
       "</div>"
      ],
      "text/plain": [
       "Empty DataFrame\n",
       "Columns: [CONG]\n",
       "Index: []"
      ]
     },
     "execution_count": 44,
     "metadata": {},
     "output_type": "execute_result"
    }
   ],
   "source": [
    "df1 = output[output.isna().any(axis=1)]\n",
    "df1.head(15)"
   ]
  },
  {
   "cell_type": "code",
   "execution_count": null,
   "metadata": {},
   "outputs": [],
   "source": []
  },
  {
   "cell_type": "code",
   "execution_count": null,
   "metadata": {},
   "outputs": [],
   "source": []
  },
  {
   "cell_type": "code",
   "execution_count": null,
   "metadata": {},
   "outputs": [],
   "source": []
  },
  {
   "cell_type": "code",
   "execution_count": null,
   "metadata": {},
   "outputs": [],
   "source": []
  },
  {
   "cell_type": "code",
   "execution_count": 45,
   "metadata": {},
   "outputs": [
    {
     "name": "stderr",
     "output_type": "stream",
     "text": [
      "C:\\Users\\mosto\\Anaconda3\\envs\\RTX-GPU\\lib\\site-packages\\ipykernel_launcher.py:1: FutureWarning: the 'freq'' keyword is deprecated, use 'period' instead\n",
      "  \"\"\"Entry point for launching an IPython kernel.\n"
     ]
    },
    {
     "data": {
      "image/png": "[encoded data removed]",
      "text/plain": [
       "<Figure size 432x288 with 4 Axes>"
      ]
     },
     "metadata": {
      "needs_background": "light"
     },
     "output_type": "display_data"
    }
   ],
   "source": [
    "result = seasonal_decompose(output.CONG.values, freq=30)  # model='mul' also works\n",
    "result.plot();"
   ]
  },
  {
   "cell_type": "code",
   "execution_count": 46,
   "metadata": {},
   "outputs": [],
   "source": [
    "from statsmodels.tsa.stattools import adfuller\n",
    "\n",
    "def adf_test(series,title=''):\n",
    "    \"\"\"\n",
    "    Pass in a time series and an optional title, returns an ADF report\n",
    "    \"\"\"\n",
    "    print(f'Augmented Dickey-Fuller Test: {title}')\n",
    "    result = adfuller(series.dropna(),autolag='AIC') # .dropna() handles differenced data\n",
    "    \n",
    "    labels = ['ADF test statistic','p-value','# lags used','# observations']\n",
    "    out = pd.Series(result[0:4],index=labels)\n",
    "\n",
    "    for key,val in result[4].items():\n",
    "        out[f'critical value ({key})']=val\n",
    "        \n",
    "    print(out.to_string())          # .to_string() removes the line \"dtype: float64\"\n",
    "    \n",
    "    if result[1] <= 0.05:\n",
    "        print(\"Strong evidence against the null hypothesis\")\n",
    "        print(\"Reject the null hypothesis\")\n",
    "        print(\"Data has no unit root and is stationary\")\n",
    "    else:\n",
    "        print(\"Weak evidence against the null hypothesis\")\n",
    "        print(\"Fail to reject the null hypothesis\")\n",
    "        print(\"Data has a unit root and is non-stationary\")"
   ]
  },
  {
   "cell_type": "code",
   "execution_count": 47,
   "metadata": {},
   "outputs": [
    {
     "name": "stdout",
     "output_type": "stream",
     "text": [
      "Augmented Dickey-Fuller Test: \n",
      "ADF test statistic       -1.936333\n",
      "p-value                   0.315166\n",
      "# lags used               9.000000\n",
      "# observations          752.000000\n",
      "critical value (1%)      -3.439076\n",
      "critical value (5%)      -2.865391\n",
      "critical value (10%)     -2.568821\n",
      "Weak evidence against the null hypothesis\n",
      "Fail to reject the null hypothesis\n",
      "Data has a unit root and is non-stationary\n"
     ]
    }
   ],
   "source": [
    "adf_test(output)"
   ]
  },
  {
   "cell_type": "code",
   "execution_count": 48,
   "metadata": {},
   "outputs": [
    {
     "data": {
      "text/plain": [
       "[<matplotlib.lines.Line2D at 0x1a6a6fc8388>]"
      ]
     },
     "execution_count": 48,
     "metadata": {},
     "output_type": "execute_result"
    },
    {
     "data": {
      "image/png": "[encoded data removed]",
      "text/plain": [
       "<Figure size 432x288 with 1 Axes>"
      ]
     },
     "metadata": {
      "needs_background": "light"
     },
     "output_type": "display_data"
    }
   ],
   "source": [
    "df_log = np.log(output)\n",
    "plt.plot(df_log)"
   ]
  },
  {
   "cell_type": "code",
   "execution_count": 49,
   "metadata": {},
   "outputs": [],
   "source": [
    "def get_stationarity(timeseries):\n",
    "    \n",
    "    # rolling statistics\n",
    "    rolling_mean = timeseries.rolling(window=7).mean()\n",
    "    rolling_std = timeseries.rolling(window=7).std()\n",
    "    \n",
    "    # rolling statistics plot\n",
    "    original = plt.plot(timeseries, color='blue', label='Original')\n",
    "    mean = plt.plot(rolling_mean, color='red', label='Rolling Mean')\n",
    "    std = plt.plot(rolling_std, color='black', label='Rolling Std')\n",
    "    plt.legend(loc='best')\n",
    "    plt.title('Rolling Mean & Standard Deviation')\n",
    "    plt.show(block=False)"
   ]
  },
  {
   "cell_type": "code",
   "execution_count": 50,
   "metadata": {},
   "outputs": [
    {
     "data": {
      "image/png": "[encoded data removed]",
      "text/plain": [
       "<Figure size 432x288 with 1 Axes>"
      ]
     },
     "metadata": {
      "needs_background": "light"
     },
     "output_type": "display_data"
    }
   ],
   "source": [
    "rolling_mean = df_log.rolling(window=7).mean()\n",
    "df_log_minus_mean = df_log - rolling_mean\n",
    "df_log_minus_mean.dropna(inplace=True)\n",
    "get_stationarity(df_log_minus_mean)"
   ]
  },
  {
   "cell_type": "code",
   "execution_count": 51,
   "metadata": {},
   "outputs": [
    {
     "name": "stdout",
     "output_type": "stream",
     "text": [
      "Augmented Dickey-Fuller Test: \n",
      "ADF test statistic     -1.202832e+01\n",
      "p-value                 2.913676e-22\n",
      "# lags used             8.000000e+00\n",
      "# observations          7.470000e+02\n",
      "critical value (1%)    -3.439134e+00\n",
      "critical value (5%)    -2.865417e+00\n",
      "critical value (10%)   -2.568834e+00\n",
      "Strong evidence against the null hypothesis\n",
      "Reject the null hypothesis\n",
      "Data has no unit root and is stationary\n"
     ]
    }
   ],
   "source": [
    "adf_test(df_log_minus_mean)"
   ]
  },
  {
   "cell_type": "code",
   "execution_count": 52,
   "metadata": {},
   "outputs": [
    {
     "data": {
      "image/png": "[encoded data removed]",
      "text/plain": [
       "<Figure size 432x288 with 1 Axes>"
      ]
     },
     "metadata": {
      "needs_background": "light"
     },
     "output_type": "display_data"
    }
   ],
   "source": [
    "rolling_mean_exp_decay = df_log.ewm(halflife=7, min_periods=0, adjust=True).mean()\n",
    "df_log_exp_decay = df_log - rolling_mean_exp_decay\n",
    "df_log_exp_decay.dropna(inplace=True)\n",
    "get_stationarity(df_log_exp_decay)"
   ]
  },
  {
   "cell_type": "code",
   "execution_count": 53,
   "metadata": {},
   "outputs": [
    {
     "name": "stdout",
     "output_type": "stream",
     "text": [
      "Augmented Dickey-Fuller Test: \n",
      "ADF test statistic      -21.656077\n",
      "p-value                   0.000000\n",
      "# lags used               1.000000\n",
      "# observations          760.000000\n",
      "critical value (1%)      -3.438984\n",
      "critical value (5%)      -2.865350\n",
      "critical value (10%)     -2.568799\n",
      "Strong evidence against the null hypothesis\n",
      "Reject the null hypothesis\n",
      "Data has no unit root and is stationary\n"
     ]
    }
   ],
   "source": [
    "adf_test(df_log_exp_decay)"
   ]
  },
  {
   "cell_type": "code",
   "execution_count": 54,
   "metadata": {},
   "outputs": [
    {
     "data": {
      "image/png": "[encoded data removed]",
      "text/plain": [
       "<Figure size 432x288 with 1 Axes>"
      ]
     },
     "metadata": {
      "needs_background": "light"
     },
     "output_type": "display_data"
    }
   ],
   "source": [
    "df_log_shift = df_log - df_log.shift()\n",
    "df_log_shift.dropna(inplace=True)\n",
    "get_stationarity(df_log_shift)"
   ]
  },
  {
   "cell_type": "code",
   "execution_count": 55,
   "metadata": {},
   "outputs": [
    {
     "name": "stdout",
     "output_type": "stream",
     "text": [
      "Augmented Dickey-Fuller Test: \n",
      "ADF test statistic     -1.190227e+01\n",
      "p-value                 5.539440e-22\n",
      "# lags used             1.200000e+01\n",
      "# observations          7.480000e+02\n",
      "critical value (1%)    -3.439123e+00\n",
      "critical value (5%)    -2.865412e+00\n",
      "critical value (10%)   -2.568832e+00\n",
      "Strong evidence against the null hypothesis\n",
      "Reject the null hypothesis\n",
      "Data has no unit root and is stationary\n"
     ]
    }
   ],
   "source": [
    "adf_test(df_log_shift)"
   ]
  },
  {
   "cell_type": "code",
   "execution_count": 56,
   "metadata": {},
   "outputs": [
    {
     "name": "stderr",
     "output_type": "stream",
     "text": [
      "C:\\Users\\mosto\\Anaconda3\\envs\\RTX-GPU\\lib\\site-packages\\statsmodels\\base\\model.py:568: ConvergenceWarning: Maximum Likelihood optimization failed to converge. Check mle_retvals\n",
      "  \"Check mle_retvals\", ConvergenceWarning)\n",
      "C:\\Users\\mosto\\Anaconda3\\envs\\RTX-GPU\\lib\\site-packages\\statsmodels\\base\\model.py:568: ConvergenceWarning: Maximum Likelihood optimization failed to converge. Check mle_retvals\n",
      "  \"Check mle_retvals\", ConvergenceWarning)\n",
      "C:\\Users\\mosto\\Anaconda3\\envs\\RTX-GPU\\lib\\site-packages\\statsmodels\\base\\model.py:568: ConvergenceWarning: Maximum Likelihood optimization failed to converge. Check mle_retvals\n",
      "  \"Check mle_retvals\", ConvergenceWarning)\n",
      "C:\\Users\\mosto\\Anaconda3\\envs\\RTX-GPU\\lib\\site-packages\\statsmodels\\base\\model.py:568: ConvergenceWarning: Maximum Likelihood optimization failed to converge. Check mle_retvals\n",
      "  \"Check mle_retvals\", ConvergenceWarning)\n",
      "C:\\Users\\mosto\\Anaconda3\\envs\\RTX-GPU\\lib\\site-packages\\statsmodels\\base\\model.py:568: ConvergenceWarning: Maximum Likelihood optimization failed to converge. Check mle_retvals\n",
      "  \"Check mle_retvals\", ConvergenceWarning)\n",
      "C:\\Users\\mosto\\Anaconda3\\envs\\RTX-GPU\\lib\\site-packages\\statsmodels\\base\\model.py:568: ConvergenceWarning: Maximum Likelihood optimization failed to converge. Check mle_retvals\n",
      "  \"Check mle_retvals\", ConvergenceWarning)\n",
      "C:\\Users\\mosto\\Anaconda3\\envs\\RTX-GPU\\lib\\site-packages\\statsmodels\\tsa\\statespace\\sarimax.py:963: UserWarning: Non-stationary starting autoregressive parameters found. Using zeros as starting parameters.\n",
      "  warn('Non-stationary starting autoregressive parameters'\n",
      "C:\\Users\\mosto\\Anaconda3\\envs\\RTX-GPU\\lib\\site-packages\\statsmodels\\tsa\\statespace\\sarimax.py:975: UserWarning: Non-invertible starting MA parameters found. Using zeros as starting parameters.\n",
      "  warn('Non-invertible starting MA parameters found.'\n",
      "C:\\Users\\mosto\\Anaconda3\\envs\\RTX-GPU\\lib\\site-packages\\statsmodels\\base\\model.py:568: ConvergenceWarning: Maximum Likelihood optimization failed to converge. Check mle_retvals\n",
      "  \"Check mle_retvals\", ConvergenceWarning)\n",
      "C:\\Users\\mosto\\Anaconda3\\envs\\RTX-GPU\\lib\\site-packages\\statsmodels\\tsa\\statespace\\sarimax.py:963: UserWarning: Non-stationary starting autoregressive parameters found. Using zeros as starting parameters.\n",
      "  warn('Non-stationary starting autoregressive parameters'\n",
      "C:\\Users\\mosto\\Anaconda3\\envs\\RTX-GPU\\lib\\site-packages\\statsmodels\\tsa\\statespace\\sarimax.py:975: UserWarning: Non-invertible starting MA parameters found. Using zeros as starting parameters.\n",
      "  warn('Non-invertible starting MA parameters found.'\n",
      "C:\\Users\\mosto\\Anaconda3\\envs\\RTX-GPU\\lib\\site-packages\\statsmodels\\tsa\\statespace\\sarimax.py:963: UserWarning: Non-stationary starting autoregressive parameters found. Using zeros as starting parameters.\n",
      "  warn('Non-stationary starting autoregressive parameters'\n",
      "C:\\Users\\mosto\\Anaconda3\\envs\\RTX-GPU\\lib\\site-packages\\statsmodels\\tsa\\statespace\\sarimax.py:975: UserWarning: Non-invertible starting MA parameters found. Using zeros as starting parameters.\n",
      "  warn('Non-invertible starting MA parameters found.'\n",
      "C:\\Users\\mosto\\Anaconda3\\envs\\RTX-GPU\\lib\\site-packages\\statsmodels\\tsa\\statespace\\sarimax.py:963: UserWarning: Non-stationary starting autoregressive parameters found. Using zeros as starting parameters.\n",
      "  warn('Non-stationary starting autoregressive parameters'\n",
      "C:\\Users\\mosto\\Anaconda3\\envs\\RTX-GPU\\lib\\site-packages\\statsmodels\\tsa\\statespace\\sarimax.py:975: UserWarning: Non-invertible starting MA parameters found. Using zeros as starting parameters.\n",
      "  warn('Non-invertible starting MA parameters found.'\n",
      "C:\\Users\\mosto\\Anaconda3\\envs\\RTX-GPU\\lib\\site-packages\\statsmodels\\base\\model.py:568: ConvergenceWarning: Maximum Likelihood optimization failed to converge. Check mle_retvals\n",
      "  \"Check mle_retvals\", ConvergenceWarning)\n",
      "C:\\Users\\mosto\\Anaconda3\\envs\\RTX-GPU\\lib\\site-packages\\statsmodels\\tsa\\statespace\\sarimax.py:963: UserWarning: Non-stationary starting autoregressive parameters found. Using zeros as starting parameters.\n",
      "  warn('Non-stationary starting autoregressive parameters'\n",
      "C:\\Users\\mosto\\Anaconda3\\envs\\RTX-GPU\\lib\\site-packages\\statsmodels\\tsa\\statespace\\sarimax.py:975: UserWarning: Non-invertible starting MA parameters found. Using zeros as starting parameters.\n",
      "  warn('Non-invertible starting MA parameters found.'\n",
      "C:\\Users\\mosto\\Anaconda3\\envs\\RTX-GPU\\lib\\site-packages\\statsmodels\\base\\model.py:568: ConvergenceWarning: Maximum Likelihood optimization failed to converge. Check mle_retvals\n",
      "  \"Check mle_retvals\", ConvergenceWarning)\n",
      "C:\\Users\\mosto\\Anaconda3\\envs\\RTX-GPU\\lib\\site-packages\\statsmodels\\tsa\\statespace\\sarimax.py:963: UserWarning: Non-stationary starting autoregressive parameters found. Using zeros as starting parameters.\n",
      "  warn('Non-stationary starting autoregressive parameters'\n",
      "C:\\Users\\mosto\\Anaconda3\\envs\\RTX-GPU\\lib\\site-packages\\statsmodels\\tsa\\statespace\\sarimax.py:975: UserWarning: Non-invertible starting MA parameters found. Using zeros as starting parameters.\n",
      "  warn('Non-invertible starting MA parameters found.'\n",
      "C:\\Users\\mosto\\Anaconda3\\envs\\RTX-GPU\\lib\\site-packages\\statsmodels\\tsa\\statespace\\sarimax.py:963: UserWarning: Non-stationary starting autoregressive parameters found. Using zeros as starting parameters.\n",
      "  warn('Non-stationary starting autoregressive parameters'\n",
      "C:\\Users\\mosto\\Anaconda3\\envs\\RTX-GPU\\lib\\site-packages\\statsmodels\\tsa\\statespace\\sarimax.py:975: UserWarning: Non-invertible starting MA parameters found. Using zeros as starting parameters.\n",
      "  warn('Non-invertible starting MA parameters found.'\n",
      "C:\\Users\\mosto\\Anaconda3\\envs\\RTX-GPU\\lib\\site-packages\\statsmodels\\tsa\\statespace\\sarimax.py:963: UserWarning: Non-stationary starting autoregressive parameters found. Using zeros as starting parameters.\n",
      "  warn('Non-stationary starting autoregressive parameters'\n",
      "C:\\Users\\mosto\\Anaconda3\\envs\\RTX-GPU\\lib\\site-packages\\statsmodels\\tsa\\statespace\\sarimax.py:975: UserWarning: Non-invertible starting MA parameters found. Using zeros as starting parameters.\n",
      "  warn('Non-invertible starting MA parameters found.'\n",
      "C:\\Users\\mosto\\Anaconda3\\envs\\RTX-GPU\\lib\\site-packages\\statsmodels\\tsa\\statespace\\sarimax.py:963: UserWarning: Non-stationary starting autoregressive parameters found. Using zeros as starting parameters.\n",
      "  warn('Non-stationary starting autoregressive parameters'\n",
      "C:\\Users\\mosto\\Anaconda3\\envs\\RTX-GPU\\lib\\site-packages\\statsmodels\\tsa\\statespace\\sarimax.py:975: UserWarning: Non-invertible starting MA parameters found. Using zeros as starting parameters.\n",
      "  warn('Non-invertible starting MA parameters found.'\n",
      "C:\\Users\\mosto\\Anaconda3\\envs\\RTX-GPU\\lib\\site-packages\\statsmodels\\base\\model.py:568: ConvergenceWarning: Maximum Likelihood optimization failed to converge. Check mle_retvals\n",
      "  \"Check mle_retvals\", ConvergenceWarning)\n",
      "C:\\Users\\mosto\\Anaconda3\\envs\\RTX-GPU\\lib\\site-packages\\statsmodels\\base\\model.py:568: ConvergenceWarning: Maximum Likelihood optimization failed to converge. Check mle_retvals\n",
      "  \"Check mle_retvals\", ConvergenceWarning)\n",
      "C:\\Users\\mosto\\Anaconda3\\envs\\RTX-GPU\\lib\\site-packages\\statsmodels\\tsa\\statespace\\sarimax.py:963: UserWarning: Non-stationary starting autoregressive parameters found. Using zeros as starting parameters.\n",
      "  warn('Non-stationary starting autoregressive parameters'\n",
      "C:\\Users\\mosto\\Anaconda3\\envs\\RTX-GPU\\lib\\site-packages\\statsmodels\\tsa\\statespace\\sarimax.py:975: UserWarning: Non-invertible starting MA parameters found. Using zeros as starting parameters.\n",
      "  warn('Non-invertible starting MA parameters found.'\n",
      "C:\\Users\\mosto\\Anaconda3\\envs\\RTX-GPU\\lib\\site-packages\\statsmodels\\base\\model.py:568: ConvergenceWarning: Maximum Likelihood optimization failed to converge. Check mle_retvals\n",
      "  \"Check mle_retvals\", ConvergenceWarning)\n",
      "C:\\Users\\mosto\\Anaconda3\\envs\\RTX-GPU\\lib\\site-packages\\statsmodels\\base\\model.py:568: ConvergenceWarning: Maximum Likelihood optimization failed to converge. Check mle_retvals\n",
      "  \"Check mle_retvals\", ConvergenceWarning)\n",
      "C:\\Users\\mosto\\Anaconda3\\envs\\RTX-GPU\\lib\\site-packages\\statsmodels\\base\\model.py:568: ConvergenceWarning: Maximum Likelihood optimization failed to converge. Check mle_retvals\n",
      "  \"Check mle_retvals\", ConvergenceWarning)\n"
     ]
    },
    {
     "data": {
      "text/html": [
       "<table class=\"simpletable\">\n",
       "<caption>SARIMAX Results</caption>\n",
       "<tr>\n",
       "  <th>Dep. Variable:</th>                  <td>y</td>                <th>  No. Observations:  </th>    <td>762</td>   \n",
       "</tr>\n",
       "<tr>\n",
       "  <th>Model:</th>           <td>SARIMAX(0, 0, 2)x(1, 0, [1], 7)</td> <th>  Log Likelihood     </th> <td>1505.497</td> \n",
       "</tr>\n",
       "<tr>\n",
       "  <th>Date:</th>                   <td>Sat, 11 Apr 2020</td>         <th>  AIC                </th> <td>-2998.995</td>\n",
       "</tr>\n",
       "<tr>\n",
       "  <th>Time:</th>                       <td>05:24:30</td>             <th>  BIC                </th> <td>-2971.179</td>\n",
       "</tr>\n",
       "<tr>\n",
       "  <th>Sample:</th>                         <td>0</td>                <th>  HQIC               </th> <td>-2988.285</td>\n",
       "</tr>\n",
       "<tr>\n",
       "  <th></th>                             <td> - 762</td>              <th>                     </th>     <td> </td>    \n",
       "</tr>\n",
       "<tr>\n",
       "  <th>Covariance Type:</th>               <td>opg</td>               <th>                     </th>     <td> </td>    \n",
       "</tr>\n",
       "</table>\n",
       "<table class=\"simpletable\">\n",
       "<tr>\n",
       "      <td></td>         <th>coef</th>     <th>std err</th>      <th>z</th>      <th>P>|z|</th>  <th>[0.025</th>    <th>0.975]</th>  \n",
       "</tr>\n",
       "<tr>\n",
       "  <th>intercept</th> <td> 6.261e-06</td> <td> 2.46e-05</td> <td>    0.255</td> <td> 0.799</td> <td>-4.19e-05</td> <td> 5.45e-05</td>\n",
       "</tr>\n",
       "<tr>\n",
       "  <th>ma.L1</th>     <td>   -0.0471</td> <td>    0.021</td> <td>   -2.200</td> <td> 0.028</td> <td>   -0.089</td> <td>   -0.005</td>\n",
       "</tr>\n",
       "<tr>\n",
       "  <th>ma.L2</th>     <td>   -0.0678</td> <td>    0.024</td> <td>   -2.809</td> <td> 0.005</td> <td>   -0.115</td> <td>   -0.020</td>\n",
       "</tr>\n",
       "<tr>\n",
       "  <th>ar.S.L7</th>   <td>    0.9923</td> <td>    0.008</td> <td>  124.902</td> <td> 0.000</td> <td>    0.977</td> <td>    1.008</td>\n",
       "</tr>\n",
       "<tr>\n",
       "  <th>ma.S.L7</th>   <td>   -0.9691</td> <td>    0.018</td> <td>  -52.793</td> <td> 0.000</td> <td>   -1.005</td> <td>   -0.933</td>\n",
       "</tr>\n",
       "<tr>\n",
       "  <th>sigma2</th>    <td>    0.0011</td> <td> 2.12e-05</td> <td>   52.983</td> <td> 0.000</td> <td>    0.001</td> <td>    0.001</td>\n",
       "</tr>\n",
       "</table>\n",
       "<table class=\"simpletable\">\n",
       "<tr>\n",
       "  <th>Ljung-Box (Q):</th>          <td>19.55</td> <th>  Jarque-Bera (JB):  </th> <td>12609.11</td>\n",
       "</tr>\n",
       "<tr>\n",
       "  <th>Prob(Q):</th>                <td>1.00</td>  <th>  Prob(JB):          </th>   <td>0.00</td>  \n",
       "</tr>\n",
       "<tr>\n",
       "  <th>Heteroskedasticity (H):</th> <td>1.16</td>  <th>  Skew:              </th>   <td>-1.82</td> \n",
       "</tr>\n",
       "<tr>\n",
       "  <th>Prob(H) (two-sided):</th>    <td>0.25</td>  <th>  Kurtosis:          </th>   <td>22.59</td> \n",
       "</tr>\n",
       "</table><br/><br/>Warnings:<br/>[1] Covariance matrix calculated using the outer product of gradients (complex-step)."
      ],
      "text/plain": [
       "<class 'statsmodels.iolib.summary.Summary'>\n",
       "\"\"\"\n",
       "                                      SARIMAX Results                                      \n",
       "===========================================================================================\n",
       "Dep. Variable:                                   y   No. Observations:                  762\n",
       "Model:             SARIMAX(0, 0, 2)x(1, 0, [1], 7)   Log Likelihood                1505.497\n",
       "Date:                             Sat, 11 Apr 2020   AIC                          -2998.995\n",
       "Time:                                     05:24:30   BIC                          -2971.179\n",
       "Sample:                                          0   HQIC                         -2988.285\n",
       "                                             - 762                                         \n",
       "Covariance Type:                               opg                                         \n",
       "==============================================================================\n",
       "                 coef    std err          z      P>|z|      [0.025      0.975]\n",
       "------------------------------------------------------------------------------\n",
       "intercept   6.261e-06   2.46e-05      0.255      0.799   -4.19e-05    5.45e-05\n",
       "ma.L1         -0.0471      0.021     -2.200      0.028      -0.089      -0.005\n",
       "ma.L2         -0.0678      0.024     -2.809      0.005      -0.115      -0.020\n",
       "ar.S.L7        0.9923      0.008    124.902      0.000       0.977       1.008\n",
       "ma.S.L7       -0.9691      0.018    -52.793      0.000      -1.005      -0.933\n",
       "sigma2         0.0011   2.12e-05     52.983      0.000       0.001       0.001\n",
       "===================================================================================\n",
       "Ljung-Box (Q):                       19.55   Jarque-Bera (JB):             12609.11\n",
       "Prob(Q):                              1.00   Prob(JB):                         0.00\n",
       "Heteroskedasticity (H):               1.16   Skew:                            -1.82\n",
       "Prob(H) (two-sided):                  0.25   Kurtosis:                        22.59\n",
       "===================================================================================\n",
       "\n",
       "Warnings:\n",
       "[1] Covariance matrix calculated using the outer product of gradients (complex-step).\n",
       "\"\"\""
      ]
     },
     "execution_count": 56,
     "metadata": {},
     "output_type": "execute_result"
    }
   ],
   "source": [
    "auto_arima(df_log_exp_decay,seasonal=True,m=7).summary()"
   ]
  },
  {
   "cell_type": "code",
   "execution_count": null,
   "metadata": {},
   "outputs": [],
   "source": []
  },
  {
   "cell_type": "code",
   "execution_count": 57,
   "metadata": {},
   "outputs": [
    {
     "data": {
      "text/plain": [
       "762"
      ]
     },
     "execution_count": 57,
     "metadata": {},
     "output_type": "execute_result"
    }
   ],
   "source": [
    "len(df_log_exp_decay)"
   ]
  },
  {
   "cell_type": "code",
   "execution_count": 58,
   "metadata": {},
   "outputs": [],
   "source": [
    "train = df_log_exp_decay.iloc[:600]\n",
    "test = df_log_exp_decay.iloc[600:]"
   ]
  },
  {
   "cell_type": "code",
   "execution_count": null,
   "metadata": {},
   "outputs": [],
   "source": []
  },
  {
   "cell_type": "code",
   "execution_count": 59,
   "metadata": {},
   "outputs": [
    {
     "name": "stderr",
     "output_type": "stream",
     "text": [
      "C:\\Users\\mosto\\Anaconda3\\envs\\RTX-GPU\\lib\\site-packages\\statsmodels\\base\\model.py:568: ConvergenceWarning: Maximum Likelihood optimization failed to converge. Check mle_retvals\n",
      "  \"Check mle_retvals\", ConvergenceWarning)\n"
     ]
    },
    {
     "data": {
      "text/html": [
       "<table class=\"simpletable\">\n",
       "<caption>SARIMAX Results</caption>\n",
       "<tr>\n",
       "  <th>Dep. Variable:</th>                <td>CONG</td>               <th>  No. Observations:  </th>    <td>600</td>   \n",
       "</tr>\n",
       "<tr>\n",
       "  <th>Model:</th>           <td>SARIMAX(2, 0, 2)x(1, 0, [1], 7)</td> <th>  Log Likelihood     </th> <td>1200.627</td> \n",
       "</tr>\n",
       "<tr>\n",
       "  <th>Date:</th>                   <td>Sat, 11 Apr 2020</td>         <th>  AIC                </th> <td>-2387.255</td>\n",
       "</tr>\n",
       "<tr>\n",
       "  <th>Time:</th>                       <td>05:24:31</td>             <th>  BIC                </th> <td>-2356.476</td>\n",
       "</tr>\n",
       "<tr>\n",
       "  <th>Sample:</th>                    <td>03-10-2018</td>            <th>  HQIC               </th> <td>-2375.273</td>\n",
       "</tr>\n",
       "<tr>\n",
       "  <th></th>                          <td>- 10-30-2019</td>           <th>                     </th>     <td> </td>    \n",
       "</tr>\n",
       "<tr>\n",
       "  <th>Covariance Type:</th>               <td>opg</td>               <th>                     </th>     <td> </td>    \n",
       "</tr>\n",
       "</table>\n",
       "<table class=\"simpletable\">\n",
       "<tr>\n",
       "     <td></td>        <th>coef</th>     <th>std err</th>      <th>z</th>      <th>P>|z|</th>  <th>[0.025</th>    <th>0.975]</th>  \n",
       "</tr>\n",
       "<tr>\n",
       "  <th>ar.L1</th>   <td>   -0.2546</td> <td>    0.479</td> <td>   -0.532</td> <td> 0.595</td> <td>   -1.193</td> <td>    0.684</td>\n",
       "</tr>\n",
       "<tr>\n",
       "  <th>ar.L2</th>   <td>   -0.0532</td> <td>    0.689</td> <td>   -0.077</td> <td> 0.938</td> <td>   -1.404</td> <td>    1.297</td>\n",
       "</tr>\n",
       "<tr>\n",
       "  <th>ma.L1</th>   <td>    0.2669</td> <td>    0.485</td> <td>    0.551</td> <td> 0.582</td> <td>   -0.683</td> <td>    1.217</td>\n",
       "</tr>\n",
       "<tr>\n",
       "  <th>ma.L2</th>   <td>   -0.0251</td> <td>    0.698</td> <td>   -0.036</td> <td> 0.971</td> <td>   -1.393</td> <td>    1.343</td>\n",
       "</tr>\n",
       "<tr>\n",
       "  <th>ar.S.L7</th> <td>    0.9971</td> <td>    0.005</td> <td>  219.566</td> <td> 0.000</td> <td>    0.988</td> <td>    1.006</td>\n",
       "</tr>\n",
       "<tr>\n",
       "  <th>ma.S.L7</th> <td>   -0.9785</td> <td>    0.018</td> <td>  -53.983</td> <td> 0.000</td> <td>   -1.014</td> <td>   -0.943</td>\n",
       "</tr>\n",
       "<tr>\n",
       "  <th>sigma2</th>  <td>    0.0011</td> <td> 2.29e-05</td> <td>   46.272</td> <td> 0.000</td> <td>    0.001</td> <td>    0.001</td>\n",
       "</tr>\n",
       "</table>\n",
       "<table class=\"simpletable\">\n",
       "<tr>\n",
       "  <th>Ljung-Box (Q):</th>          <td>18.12</td> <th>  Jarque-Bera (JB):  </th> <td>8029.22</td>\n",
       "</tr>\n",
       "<tr>\n",
       "  <th>Prob(Q):</th>                <td>1.00</td>  <th>  Prob(JB):          </th>  <td>0.00</td>  \n",
       "</tr>\n",
       "<tr>\n",
       "  <th>Heteroskedasticity (H):</th> <td>0.75</td>  <th>  Skew:              </th>  <td>-1.61</td> \n",
       "</tr>\n",
       "<tr>\n",
       "  <th>Prob(H) (two-sided):</th>    <td>0.04</td>  <th>  Kurtosis:          </th>  <td>20.63</td> \n",
       "</tr>\n",
       "</table><br/><br/>Warnings:<br/>[1] Covariance matrix calculated using the outer product of gradients (complex-step)."
      ],
      "text/plain": [
       "<class 'statsmodels.iolib.summary.Summary'>\n",
       "\"\"\"\n",
       "                                      SARIMAX Results                                      \n",
       "===========================================================================================\n",
       "Dep. Variable:                                CONG   No. Observations:                  600\n",
       "Model:             SARIMAX(2, 0, 2)x(1, 0, [1], 7)   Log Likelihood                1200.627\n",
       "Date:                             Sat, 11 Apr 2020   AIC                          -2387.255\n",
       "Time:                                     05:24:31   BIC                          -2356.476\n",
       "Sample:                                 03-10-2018   HQIC                         -2375.273\n",
       "                                      - 10-30-2019                                         \n",
       "Covariance Type:                               opg                                         \n",
       "==============================================================================\n",
       "                 coef    std err          z      P>|z|      [0.025      0.975]\n",
       "------------------------------------------------------------------------------\n",
       "ar.L1         -0.2546      0.479     -0.532      0.595      -1.193       0.684\n",
       "ar.L2         -0.0532      0.689     -0.077      0.938      -1.404       1.297\n",
       "ma.L1          0.2669      0.485      0.551      0.582      -0.683       1.217\n",
       "ma.L2         -0.0251      0.698     -0.036      0.971      -1.393       1.343\n",
       "ar.S.L7        0.9971      0.005    219.566      0.000       0.988       1.006\n",
       "ma.S.L7       -0.9785      0.018    -53.983      0.000      -1.014      -0.943\n",
       "sigma2         0.0011   2.29e-05     46.272      0.000       0.001       0.001\n",
       "===================================================================================\n",
       "Ljung-Box (Q):                       18.12   Jarque-Bera (JB):              8029.22\n",
       "Prob(Q):                              1.00   Prob(JB):                         0.00\n",
       "Heteroskedasticity (H):               0.75   Skew:                            -1.61\n",
       "Prob(H) (two-sided):                  0.04   Kurtosis:                        20.63\n",
       "===================================================================================\n",
       "\n",
       "Warnings:\n",
       "[1] Covariance matrix calculated using the outer product of gradients (complex-step).\n",
       "\"\"\""
      ]
     },
     "execution_count": 59,
     "metadata": {},
     "output_type": "execute_result"
    }
   ],
   "source": [
    "model = SARIMAX(train, order=(2,0,2), seasonal_order=(1,0,[1],7),enforce_invertibility=False)\n",
    "results = model.fit()\n",
    "results.summary()"
   ]
  },
  {
   "cell_type": "code",
   "execution_count": null,
   "metadata": {},
   "outputs": [],
   "source": []
  },
  {
   "cell_type": "code",
   "execution_count": null,
   "metadata": {},
   "outputs": [],
   "source": []
  },
  {
   "cell_type": "code",
   "execution_count": 60,
   "metadata": {},
   "outputs": [],
   "source": [
    "start=len(train)\n",
    "end=len(train)+len(test)-1\n",
    "predictions = results.predict(start=start, end=end, dynamic=False).rename('SARIMA(2,0,2)(1,0,[1],7) Predictions')"
   ]
  },
  {
   "cell_type": "code",
   "execution_count": 61,
   "metadata": {},
   "outputs": [
    {
     "data": {
      "text/plain": [
       "[Text(0, 0.5, 'Level of Congestion'), Text(0.5, 0, '')]"
      ]
     },
     "execution_count": 61,
     "metadata": {},
     "output_type": "execute_result"
    },
    {
     "data": {
      "image/png": "[encoded data removed]",
      "text/plain": [
       "<Figure size 864x432 with 1 Axes>"
      ]
     },
     "metadata": {
      "needs_background": "light"
     },
     "output_type": "display_data"
    }
   ],
   "source": [
    "title='Traffic Congestion'\n",
    "ylabel='Level of Congestion'\n",
    "xlabel=''\n",
    "\n",
    "ax = test.plot(legend=True,figsize=(12,6),title=title)\n",
    "predictions.plot(legend=True)\n",
    "ax.autoscale(axis='x',tight=True)\n",
    "ax.set(xlabel=xlabel, ylabel=ylabel)"
   ]
  },
  {
   "cell_type": "code",
   "execution_count": null,
   "metadata": {},
   "outputs": [],
   "source": []
  },
  {
   "cell_type": "code",
   "execution_count": null,
   "metadata": {},
   "outputs": [],
   "source": []
  },
  {
   "cell_type": "code",
   "execution_count": null,
   "metadata": {},
   "outputs": [],
   "source": []
  },
  {
   "cell_type": "code",
   "execution_count": null,
   "metadata": {},
   "outputs": [],
   "source": []
  },
  {
   "cell_type": "code",
   "execution_count": null,
   "metadata": {},
   "outputs": [],
   "source": []
  }
 ],
 "metadata": {
  "kernelspec": {
   "display_name": "Python 3",
   "language": "python",
   "name": "python3"
  },
  "language_info": {
   "codemirror_mode": {
    "name": "ipython",
    "version": 3
   },
   "file_extension": ".py",
   "mimetype": "text/x-python",
   "name": "python",
   "nbconvert_exporter": "python",
   "pygments_lexer": "ipython3",
   "version": "3.7.6"
  }
 },
 "nbformat": 4,
 "nbformat_minor": 4
}
